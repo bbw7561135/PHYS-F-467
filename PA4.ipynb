{
 "cells": [
  {
   "cell_type": "markdown",
   "metadata": {
    "slideshow": {
     "slide_type": "slide"
    }
   },
   "source": [
    "<img src=\"http://www.ulb.ac.be/dre/com/docs/logo3lp.jpg\" alt=\"ULB logo\" width=\"20%\" align=\"right\"><br><br><br><br>\n",
    "\n",
    "\n",
    "\n",
    "# Lecture 3\n",
    "# Cosmic Rays in the Atmosphere\n",
    "\n",
    "<a href=\"http://iihe.ac.be/~aguilar\">Juan A. Aguilar</a>\n",
    "\n"
   ]
  },
  {
   "cell_type": "markdown",
   "metadata": {},
   "source": [
    "## Interactions of CR particles in the atmosphere\n",
    "### Introduction\n",
    "\n",
    "In this lesson we will the different components of a cosmic air shower when cosmic rays interact with Earth's atmosphere. As seen in the figure below, we have 3 main components, the **electromagnetic component**, the **hadronic component** and muons and neutrinos which can be seen as the **muonic component**. "
   ]
  },
  {
   "cell_type": "markdown",
   "metadata": {},
   "source": [
    "<div>\n",
    "<img src=\"images/air-shower.svg\"  style=\"float:middle\"\\>\n",
    "</div>"
   ]
  },
  {
   "cell_type": "markdown",
   "metadata": {
    "slideshow": {
     "slide_type": "slide"
    }
   },
   "source": [
    "### The Atmosphere\n",
    "\n",
    "Before studing the interactions of cosmic rays in the atmosphere we need to described out atmosphere.\n",
    "\n"
   ]
  },
  {
   "cell_type": "markdown",
   "metadata": {
    "slideshow": {
     "slide_type": "skip"
    }
   },
   "source": [
    "It is important to know the atmosphere to understand the cosmic rays interaction in it. It is useful to define a paramter call the vertical atmospheric depth (also called column density), $X$ measured in g/cm$^{2}$ is defined as the integral in altitude of the atmospheric density $\\rho$ above the observation level $h$:    \n",
    "\n",
    "$$X =\\int_h^{\\infty} \\rho(h^\\prime){\\rm d}h^\\prime$$\n"
   ]
  },
  {
   "cell_type": "markdown",
   "metadata": {},
   "source": [
    "<div>\n",
    "<img src=\"images/atmos.png\" width=\"50%\" style=\"float:middle\"\\>\n",
    "</div>"
   ]
  },
  {
   "cell_type": "markdown",
   "metadata": {},
   "source": [
    "To calculate $X$ we need to know how the density changes as a function of the altitude $h$."
   ]
  },
  {
   "cell_type": "markdown",
   "metadata": {},
   "source": [
    "#### Atmosphere: The isothermal model\n",
    "\n",
    "In an isothermal hydrostatic atmosphere a particular layer of gas at some altitude is static. That means that the downward (towards the planet) force of its weight, plus the downward force exerted by pressure in the layer above it, and the upward force exerted by pressure in the layer below, all sum to zero. Assuming a segment of area $A$ and heigth ${\\rm d}h$ we can write this equilibrium of forces as:\n",
    "\n",
    "$$P\\cdot A - (P + {\\rm d}P)\\cdot A - (\\rho A {\\rm d}h)g_0  =0$$\n",
    "\n",
    "$${\\rm d}P = -g_0\\rho(h) {\\rm d}h$$\n",
    "\n",
    "Using the ideal gas law:\n",
    "\n",
    "$$ P = \\frac{\\rho R T}{M}$$\n",
    "\n",
    "where $R$ is the ideal gas constant, $T$ is temperature, $M$ is average molecular weight, and $g_0$ is the gravitational acceleration at the planet's surface. We get\n",
    "\n",
    "$$\\frac{{\\rm d}P}{P} = -\\frac{g_0 M}{R T} {\\rm d} h$$\n",
    "\n",
    "assuming a constant and isothermal gas (const $T$) we can integrate a pressure decreases exponentially with increasing height as:\n",
    "\n",
    "$$P = P_0 e^{-\\frac{g_0 M}{R T} h} $$\n",
    "\n",
    "where the we can define the **scale height** as:\n",
    "\n",
    "$$ h_0 = \\frac{R T}{M g_0} $$\n",
    "\n",
    "Since the temperature is assumed to be constant it follows that $\\rho$ also changes exponentially as $\\rho = \\rho_0 e^{-h/h_0}$ and therefore the column density  can be written as:\n",
    "\n",
    "$$X = X_0 {\\rm e}^{-h/h_0}$$ \n",
    "\n",
    "where $X_0$ is 1030 g/cm$^{2}$ is the atmospheric depth at sea level, h = 0. In particular for the isothermal model we have that the relation between atmospheric depth (aka column density) and density is:\n",
    "\n",
    "$$ \\rho(X) = \\frac{X}{h_0} $$"
   ]
  },
  {
   "cell_type": "markdown",
   "metadata": {
    "slideshow": {
     "slide_type": "subslide"
    }
   },
   "source": [
    "\n",
    "#### The scale height\n",
    "\n",
    "\n",
    "Using typical values ($T = 273$ K and $M = 29$ g/mol) we get that $h_0 \\sim 8$ km  which coincidentally is the approximate height of Mt. Everest.  \n",
    "\n",
    "In reality the temperature changes and hence the scale height decreases with increasing altitude until the tropopause.\n",
    "\n",
    "This equations are valid for vertical particles, for zenith angles < 60$^\\circ$ (for which we can ignore the Earth's curvature) the formula is scaled with $1/\\cos{\\theta}$ giving the *slant depth*\n",
    "\n",
    "$$X_{slant-depth} = \\frac{X}{\\cos \\theta} $$"
   ]
  },
  {
   "cell_type": "markdown",
   "metadata": {},
   "source": [
    "### Processes of energy losses in the Atmosphere\n",
    "\n",
    "Charge particles when entering in the atmosphere will suffer different process of energy losses. We are going to review some of them:\n",
    "\n",
    "#### Ionization losses\n",
    "\n",
    "The **ionization energy loss** of high energy charged particles with colission with atomic electrons is given by the Bethe-Block formula:\n",
    "\n",
    "$$\\left(\\frac{{\\rm d} E}{{\\rm d} x}\\right)_{ion}= -\\left(\\frac{4\\pi N_0z^2e^4}{mv^2}\\right)\\left(\\frac{Z}{A}\\right)\\left\\{\\log\\left[\\frac{2mv^2\\gamma^2}{I}\\right]-\\beta^2\\right\\}$$\n",
    "\n",
    "where $m$ is the mass of the electron, $v$ and $ze$ are the velocity and charge of the incoming particle, $N_0$ is the Avogadro's number, $Z$ and $A$ are the atomic and mass numbers of the atmos in the medium and $x$ the path travelled, and $I$ is the ionization potential of the medium is approximatively 10 Z eV.\n",
    "\n",
    "* Since $Z/A \\sim \\frac{1}{2}$ in most materials it depends little on the medium.\n",
    "* It varies as $1/v^2$ at low speed and independent of the incident particle mass.\n",
    "* It reaches a minimum at about $3Mc^2$ and it increases logarithmically until it reaches a plateu value.\n",
    "\n"
   ]
  },
  {
   "cell_type": "markdown",
   "metadata": {},
   "source": [
    "### Tutorial I: Plot of the ionization energy losses "
   ]
  },
  {
   "cell_type": "code",
   "execution_count": 2,
   "metadata": {
    "collapsed": true
   },
   "outputs": [],
   "source": [
    "%matplotlib inline\n",
    "import numpy as np\n",
    "import matplotlib.pylab as plt\n",
    "from mpl_toolkits.mplot3d import Axes3D\n",
    "from IPython.display import Latex\n"
   ]
  },
  {
   "cell_type": "code",
   "execution_count": 3,
   "metadata": {
    "collapsed": true
   },
   "outputs": [],
   "source": [
    "%config InlineBackend.figure_format = 'svg'\n",
    "plt.style.use(\"seaborn-notebook\")"
   ]
  },
  {
   "cell_type": "code",
   "execution_count": 4,
   "metadata": {
    "collapsed": true
   },
   "outputs": [],
   "source": [
    "from scipy import constants as cte\n",
    "m_e = cte.value(\"electron mass energy equivalent in MeV\") * 1e6 # in eV\n",
    "m_m = cte.value(\"muon mass energy equivalent in MeV\") * 1e6 # in eV\n",
    "alpha = cte.fine_structure\n",
    "r0 = cte.value(\"classical electron radius\") \n",
    "N0 = cte.N_A\n",
    "Z = 11. # For standard rock\n",
    "A = 2*Z \n",
    "I = 10.*Z #eV\n",
    "\n",
    "def Ionization(beta, m):\n",
    "    K = 0.307 \n",
    "    z = 1 # assuming electron or muon\n",
    "    gamma = 1/np.sqrt(1 - beta**2)\n",
    "    return K * z **2 * 0.5 * -1/beta**2 * (np.log((2*m*beta**2*gamma**2)/I) - beta**2)\n",
    "\n"
   ]
  },
  {
   "cell_type": "code",
   "execution_count": 13,
   "metadata": {},
   "outputs": [
    {
     "data": {
      "image/svg+xml": [
       "<?xml version=\"1.0\" encoding=\"utf-8\" standalone=\"no\"?>\n",
       "<!DOCTYPE svg PUBLIC \"-//W3C//DTD SVG 1.1//EN\"\n",
       "  \"http://www.w3.org/Graphics/SVG/1.1/DTD/svg11.dtd\">\n",
       "<!-- Created with matplotlib (http://matplotlib.org/) -->\n",
       "<svg height=\"270pt\" version=\"1.1\" viewBox=\"0 0 373 270\" width=\"373pt\" xmlns=\"http://www.w3.org/2000/svg\" xmlns:xlink=\"http://www.w3.org/1999/xlink\">\n",
       " <defs>\n",
       "  <style type=\"text/css\">\n",
       "*{stroke-linecap:butt;stroke-linejoin:round;}\n",
       "  </style>\n",
       " </defs>\n",
       " <g id=\"figure_1\">\n",
       "  <g id=\"patch_1\">\n",
       "   <path d=\"M 0 270.597344 \n",
       "L 373.900625 270.597344 \n",
       "L 373.900625 0 \n",
       "L 0 0 \n",
       "z\n",
       "\" style=\"fill:none;\"/>\n",
       "  </g>\n",
       "  <g id=\"axes_1\">\n",
       "   <g id=\"patch_2\">\n",
       "    <path d=\"M 78.900625 228.439219 \n",
       "L 357.900625 228.439219 \n",
       "L 357.900625 10.999219 \n",
       "L 78.900625 10.999219 \n",
       "z\n",
       "\" style=\"fill:#ffffff;\"/>\n",
       "   </g>\n",
       "   <g id=\"matplotlib.axis_1\">\n",
       "    <g id=\"xtick_1\">\n",
       "     <g id=\"line2d_1\">\n",
       "      <path clip-path=\"url(#pe00e947265)\" d=\"M 120.310841 228.439219 \n",
       "L 120.310841 10.999219 \n",
       "\" style=\"fill:none;stroke:#b0b0b0;stroke-linecap:square;\"/>\n",
       "     </g>\n",
       "     <g id=\"line2d_2\">\n",
       "      <defs>\n",
       "       <path d=\"M 0 0 \n",
       "L 0 3.5 \n",
       "\" id=\"md317e59b3c\" style=\"stroke:#000000;\"/>\n",
       "      </defs>\n",
       "      <g>\n",
       "       <use style=\"stroke:#000000;\" x=\"120.310841\" xlink:href=\"#md317e59b3c\" y=\"228.439219\"/>\n",
       "      </g>\n",
       "     </g>\n",
       "     <g id=\"text_1\">\n",
       "      <!-- ${10^{-3}}$ -->\n",
       "      <defs>\n",
       "       <path d=\"M 12.40625 8.296875 \n",
       "L 28.515625 8.296875 \n",
       "L 28.515625 63.921875 \n",
       "L 10.984375 60.40625 \n",
       "L 10.984375 69.390625 \n",
       "L 28.421875 72.90625 \n",
       "L 38.28125 72.90625 \n",
       "L 38.28125 8.296875 \n",
       "L 54.390625 8.296875 \n",
       "L 54.390625 0 \n",
       "L 12.40625 0 \n",
       "z\n",
       "\" id=\"DejaVuSans-31\"/>\n",
       "       <path d=\"M 31.78125 66.40625 \n",
       "Q 24.171875 66.40625 20.328125 58.90625 \n",
       "Q 16.5 51.421875 16.5 36.375 \n",
       "Q 16.5 21.390625 20.328125 13.890625 \n",
       "Q 24.171875 6.390625 31.78125 6.390625 \n",
       "Q 39.453125 6.390625 43.28125 13.890625 \n",
       "Q 47.125 21.390625 47.125 36.375 \n",
       "Q 47.125 51.421875 43.28125 58.90625 \n",
       "Q 39.453125 66.40625 31.78125 66.40625 \n",
       "M 31.78125 74.21875 \n",
       "Q 44.046875 74.21875 50.515625 64.515625 \n",
       "Q 56.984375 54.828125 56.984375 36.375 \n",
       "Q 56.984375 17.96875 50.515625 8.265625 \n",
       "Q 44.046875 -1.421875 31.78125 -1.421875 \n",
       "Q 19.53125 -1.421875 13.0625 8.265625 \n",
       "Q 6.59375 17.96875 6.59375 36.375 \n",
       "Q 6.59375 54.828125 13.0625 64.515625 \n",
       "Q 19.53125 74.21875 31.78125 74.21875 \n",
       "\" id=\"DejaVuSans-30\"/>\n",
       "       <path d=\"M 10.59375 35.5 \n",
       "L 73.1875 35.5 \n",
       "L 73.1875 27.203125 \n",
       "L 10.59375 27.203125 \n",
       "z\n",
       "\" id=\"DejaVuSans-2212\"/>\n",
       "       <path d=\"M 40.578125 39.3125 \n",
       "Q 47.65625 37.796875 51.625 33 \n",
       "Q 55.609375 28.21875 55.609375 21.1875 \n",
       "Q 55.609375 10.40625 48.1875 4.484375 \n",
       "Q 40.765625 -1.421875 27.09375 -1.421875 \n",
       "Q 22.515625 -1.421875 17.65625 -0.515625 \n",
       "Q 12.796875 0.390625 7.625 2.203125 \n",
       "L 7.625 11.71875 \n",
       "Q 11.71875 9.328125 16.59375 8.109375 \n",
       "Q 21.484375 6.890625 26.8125 6.890625 \n",
       "Q 36.078125 6.890625 40.9375 10.546875 \n",
       "Q 45.796875 14.203125 45.796875 21.1875 \n",
       "Q 45.796875 27.640625 41.28125 31.265625 \n",
       "Q 36.765625 34.90625 28.71875 34.90625 \n",
       "L 20.21875 34.90625 \n",
       "L 20.21875 43.015625 \n",
       "L 29.109375 43.015625 \n",
       "Q 36.375 43.015625 40.234375 45.921875 \n",
       "Q 44.09375 48.828125 44.09375 54.296875 \n",
       "Q 44.09375 59.90625 40.109375 62.90625 \n",
       "Q 36.140625 65.921875 28.71875 65.921875 \n",
       "Q 24.65625 65.921875 20.015625 65.03125 \n",
       "Q 15.375 64.15625 9.8125 62.3125 \n",
       "L 9.8125 71.09375 \n",
       "Q 15.4375 72.65625 20.34375 73.4375 \n",
       "Q 25.25 74.21875 29.59375 74.21875 \n",
       "Q 40.828125 74.21875 47.359375 69.109375 \n",
       "Q 53.90625 64.015625 53.90625 55.328125 \n",
       "Q 53.90625 49.265625 50.4375 45.09375 \n",
       "Q 46.96875 40.921875 40.578125 39.3125 \n",
       "\" id=\"DejaVuSans-33\"/>\n",
       "      </defs>\n",
       "      <g transform=\"translate(108.560841 246.537656)scale(0.1 -0.1)\">\n",
       "       <use transform=\"translate(0 0.765625)\" xlink:href=\"#DejaVuSans-31\"/>\n",
       "       <use transform=\"translate(63.623047 0.765625)\" xlink:href=\"#DejaVuSans-30\"/>\n",
       "       <use transform=\"translate(128.203125 39.046875)scale(0.7)\" xlink:href=\"#DejaVuSans-2212\"/>\n",
       "       <use transform=\"translate(186.855469 39.046875)scale(0.7)\" xlink:href=\"#DejaVuSans-33\"/>\n",
       "      </g>\n",
       "     </g>\n",
       "    </g>\n",
       "    <g id=\"xtick_2\">\n",
       "     <g id=\"line2d_3\">\n",
       "      <path clip-path=\"url(#pe00e947265)\" d=\"M 199.507436 228.439219 \n",
       "L 199.507436 10.999219 \n",
       "\" style=\"fill:none;stroke:#b0b0b0;stroke-linecap:square;\"/>\n",
       "     </g>\n",
       "     <g id=\"line2d_4\">\n",
       "      <g>\n",
       "       <use style=\"stroke:#000000;\" x=\"199.507436\" xlink:href=\"#md317e59b3c\" y=\"228.439219\"/>\n",
       "      </g>\n",
       "     </g>\n",
       "     <g id=\"text_2\">\n",
       "      <!-- ${10^{-2}}$ -->\n",
       "      <defs>\n",
       "       <path d=\"M 19.1875 8.296875 \n",
       "L 53.609375 8.296875 \n",
       "L 53.609375 0 \n",
       "L 7.328125 0 \n",
       "L 7.328125 8.296875 \n",
       "Q 12.9375 14.109375 22.625 23.890625 \n",
       "Q 32.328125 33.6875 34.8125 36.53125 \n",
       "Q 39.546875 41.84375 41.421875 45.53125 \n",
       "Q 43.3125 49.21875 43.3125 52.78125 \n",
       "Q 43.3125 58.59375 39.234375 62.25 \n",
       "Q 35.15625 65.921875 28.609375 65.921875 \n",
       "Q 23.96875 65.921875 18.8125 64.3125 \n",
       "Q 13.671875 62.703125 7.8125 59.421875 \n",
       "L 7.8125 69.390625 \n",
       "Q 13.765625 71.78125 18.9375 73 \n",
       "Q 24.125 74.21875 28.421875 74.21875 \n",
       "Q 39.75 74.21875 46.484375 68.546875 \n",
       "Q 53.21875 62.890625 53.21875 53.421875 \n",
       "Q 53.21875 48.921875 51.53125 44.890625 \n",
       "Q 49.859375 40.875 45.40625 35.40625 \n",
       "Q 44.1875 33.984375 37.640625 27.21875 \n",
       "Q 31.109375 20.453125 19.1875 8.296875 \n",
       "\" id=\"DejaVuSans-32\"/>\n",
       "      </defs>\n",
       "      <g transform=\"translate(187.757436 246.537656)scale(0.1 -0.1)\">\n",
       "       <use transform=\"translate(0 0.765625)\" xlink:href=\"#DejaVuSans-31\"/>\n",
       "       <use transform=\"translate(63.623047 0.765625)\" xlink:href=\"#DejaVuSans-30\"/>\n",
       "       <use transform=\"translate(128.203125 39.046875)scale(0.7)\" xlink:href=\"#DejaVuSans-2212\"/>\n",
       "       <use transform=\"translate(186.855469 39.046875)scale(0.7)\" xlink:href=\"#DejaVuSans-32\"/>\n",
       "      </g>\n",
       "     </g>\n",
       "    </g>\n",
       "    <g id=\"xtick_3\">\n",
       "     <g id=\"line2d_5\">\n",
       "      <path clip-path=\"url(#pe00e947265)\" d=\"M 278.70403 228.439219 \n",
       "L 278.70403 10.999219 \n",
       "\" style=\"fill:none;stroke:#b0b0b0;stroke-linecap:square;\"/>\n",
       "     </g>\n",
       "     <g id=\"line2d_6\">\n",
       "      <g>\n",
       "       <use style=\"stroke:#000000;\" x=\"278.70403\" xlink:href=\"#md317e59b3c\" y=\"228.439219\"/>\n",
       "      </g>\n",
       "     </g>\n",
       "     <g id=\"text_3\">\n",
       "      <!-- ${10^{-1}}$ -->\n",
       "      <g transform=\"translate(266.95403 246.537656)scale(0.1 -0.1)\">\n",
       "       <use transform=\"translate(0 0.684375)\" xlink:href=\"#DejaVuSans-31\"/>\n",
       "       <use transform=\"translate(63.623047 0.684375)\" xlink:href=\"#DejaVuSans-30\"/>\n",
       "       <use transform=\"translate(128.203125 38.965625)scale(0.7)\" xlink:href=\"#DejaVuSans-2212\"/>\n",
       "       <use transform=\"translate(186.855469 38.965625)scale(0.7)\" xlink:href=\"#DejaVuSans-31\"/>\n",
       "      </g>\n",
       "     </g>\n",
       "    </g>\n",
       "    <g id=\"xtick_4\">\n",
       "     <g id=\"line2d_7\">\n",
       "      <path clip-path=\"url(#pe00e947265)\" d=\"M 357.900625 228.439219 \n",
       "L 357.900625 10.999219 \n",
       "\" style=\"fill:none;stroke:#b0b0b0;stroke-linecap:square;\"/>\n",
       "     </g>\n",
       "     <g id=\"line2d_8\">\n",
       "      <g>\n",
       "       <use style=\"stroke:#000000;\" x=\"357.900625\" xlink:href=\"#md317e59b3c\" y=\"228.439219\"/>\n",
       "      </g>\n",
       "     </g>\n",
       "     <g id=\"text_4\">\n",
       "      <!-- ${10^{0}}$ -->\n",
       "      <g transform=\"translate(349.100625 246.537656)scale(0.1 -0.1)\">\n",
       "       <use transform=\"translate(0 0.765625)\" xlink:href=\"#DejaVuSans-31\"/>\n",
       "       <use transform=\"translate(63.623047 0.765625)\" xlink:href=\"#DejaVuSans-30\"/>\n",
       "       <use transform=\"translate(128.203125 39.046875)scale(0.7)\" xlink:href=\"#DejaVuSans-30\"/>\n",
       "      </g>\n",
       "     </g>\n",
       "    </g>\n",
       "    <g id=\"xtick_5\">\n",
       "     <g id=\"line2d_9\">\n",
       "      <defs>\n",
       "       <path d=\"M 0 0 \n",
       "L 0 2 \n",
       "\" id=\"mb3aa78436f\" style=\"stroke:#000000;stroke-width:0.5;\"/>\n",
       "      </defs>\n",
       "      <g>\n",
       "       <use style=\"stroke:#000000;stroke-width:0.5;\" x=\"78.900625\" xlink:href=\"#mb3aa78436f\" y=\"228.439219\"/>\n",
       "      </g>\n",
       "     </g>\n",
       "    </g>\n",
       "    <g id=\"xtick_6\">\n",
       "     <g id=\"line2d_10\">\n",
       "      <g>\n",
       "       <use style=\"stroke:#000000;stroke-width:0.5;\" x=\"88.795347\" xlink:href=\"#mb3aa78436f\" y=\"228.439219\"/>\n",
       "      </g>\n",
       "     </g>\n",
       "    </g>\n",
       "    <g id=\"xtick_7\">\n",
       "     <g id=\"line2d_11\">\n",
       "      <g>\n",
       "       <use style=\"stroke:#000000;stroke-width:0.5;\" x=\"96.47029\" xlink:href=\"#mb3aa78436f\" y=\"228.439219\"/>\n",
       "      </g>\n",
       "     </g>\n",
       "    </g>\n",
       "    <g id=\"xtick_8\">\n",
       "     <g id=\"line2d_12\">\n",
       "      <g>\n",
       "       <use style=\"stroke:#000000;stroke-width:0.5;\" x=\"102.741176\" xlink:href=\"#mb3aa78436f\" y=\"228.439219\"/>\n",
       "      </g>\n",
       "     </g>\n",
       "    </g>\n",
       "    <g id=\"xtick_9\">\n",
       "     <g id=\"line2d_13\">\n",
       "      <g>\n",
       "       <use style=\"stroke:#000000;stroke-width:0.5;\" x=\"108.043133\" xlink:href=\"#mb3aa78436f\" y=\"228.439219\"/>\n",
       "      </g>\n",
       "     </g>\n",
       "    </g>\n",
       "    <g id=\"xtick_10\">\n",
       "     <g id=\"line2d_14\">\n",
       "      <g>\n",
       "       <use style=\"stroke:#000000;stroke-width:0.5;\" x=\"112.635898\" xlink:href=\"#mb3aa78436f\" y=\"228.439219\"/>\n",
       "      </g>\n",
       "     </g>\n",
       "    </g>\n",
       "    <g id=\"xtick_11\">\n",
       "     <g id=\"line2d_15\">\n",
       "      <g>\n",
       "       <use style=\"stroke:#000000;stroke-width:0.5;\" x=\"116.687004\" xlink:href=\"#mb3aa78436f\" y=\"228.439219\"/>\n",
       "      </g>\n",
       "     </g>\n",
       "    </g>\n",
       "    <g id=\"xtick_12\">\n",
       "     <g id=\"line2d_16\">\n",
       "      <g>\n",
       "       <use style=\"stroke:#000000;stroke-width:0.5;\" x=\"144.151392\" xlink:href=\"#mb3aa78436f\" y=\"228.439219\"/>\n",
       "      </g>\n",
       "     </g>\n",
       "    </g>\n",
       "    <g id=\"xtick_13\">\n",
       "     <g id=\"line2d_17\">\n",
       "      <g>\n",
       "       <use style=\"stroke:#000000;stroke-width:0.5;\" x=\"158.09722\" xlink:href=\"#mb3aa78436f\" y=\"228.439219\"/>\n",
       "      </g>\n",
       "     </g>\n",
       "    </g>\n",
       "    <g id=\"xtick_14\">\n",
       "     <g id=\"line2d_18\">\n",
       "      <g>\n",
       "       <use style=\"stroke:#000000;stroke-width:0.5;\" x=\"167.991942\" xlink:href=\"#mb3aa78436f\" y=\"228.439219\"/>\n",
       "      </g>\n",
       "     </g>\n",
       "    </g>\n",
       "    <g id=\"xtick_15\">\n",
       "     <g id=\"line2d_19\">\n",
       "      <g>\n",
       "       <use style=\"stroke:#000000;stroke-width:0.5;\" x=\"175.666885\" xlink:href=\"#mb3aa78436f\" y=\"228.439219\"/>\n",
       "      </g>\n",
       "     </g>\n",
       "    </g>\n",
       "    <g id=\"xtick_16\">\n",
       "     <g id=\"line2d_20\">\n",
       "      <g>\n",
       "       <use style=\"stroke:#000000;stroke-width:0.5;\" x=\"181.93777\" xlink:href=\"#mb3aa78436f\" y=\"228.439219\"/>\n",
       "      </g>\n",
       "     </g>\n",
       "    </g>\n",
       "    <g id=\"xtick_17\">\n",
       "     <g id=\"line2d_21\">\n",
       "      <g>\n",
       "       <use style=\"stroke:#000000;stroke-width:0.5;\" x=\"187.239728\" xlink:href=\"#mb3aa78436f\" y=\"228.439219\"/>\n",
       "      </g>\n",
       "     </g>\n",
       "    </g>\n",
       "    <g id=\"xtick_18\">\n",
       "     <g id=\"line2d_22\">\n",
       "      <g>\n",
       "       <use style=\"stroke:#000000;stroke-width:0.5;\" x=\"191.832493\" xlink:href=\"#mb3aa78436f\" y=\"228.439219\"/>\n",
       "      </g>\n",
       "     </g>\n",
       "    </g>\n",
       "    <g id=\"xtick_19\">\n",
       "     <g id=\"line2d_23\">\n",
       "      <g>\n",
       "       <use style=\"stroke:#000000;stroke-width:0.5;\" x=\"195.883598\" xlink:href=\"#mb3aa78436f\" y=\"228.439219\"/>\n",
       "      </g>\n",
       "     </g>\n",
       "    </g>\n",
       "    <g id=\"xtick_20\">\n",
       "     <g id=\"line2d_24\">\n",
       "      <g>\n",
       "       <use style=\"stroke:#000000;stroke-width:0.5;\" x=\"223.347986\" xlink:href=\"#mb3aa78436f\" y=\"228.439219\"/>\n",
       "      </g>\n",
       "     </g>\n",
       "    </g>\n",
       "    <g id=\"xtick_21\">\n",
       "     <g id=\"line2d_25\">\n",
       "      <g>\n",
       "       <use style=\"stroke:#000000;stroke-width:0.5;\" x=\"237.293814\" xlink:href=\"#mb3aa78436f\" y=\"228.439219\"/>\n",
       "      </g>\n",
       "     </g>\n",
       "    </g>\n",
       "    <g id=\"xtick_22\">\n",
       "     <g id=\"line2d_26\">\n",
       "      <g>\n",
       "       <use style=\"stroke:#000000;stroke-width:0.5;\" x=\"247.188537\" xlink:href=\"#mb3aa78436f\" y=\"228.439219\"/>\n",
       "      </g>\n",
       "     </g>\n",
       "    </g>\n",
       "    <g id=\"xtick_23\">\n",
       "     <g id=\"line2d_27\">\n",
       "      <g>\n",
       "       <use style=\"stroke:#000000;stroke-width:0.5;\" x=\"254.86348\" xlink:href=\"#mb3aa78436f\" y=\"228.439219\"/>\n",
       "      </g>\n",
       "     </g>\n",
       "    </g>\n",
       "    <g id=\"xtick_24\">\n",
       "     <g id=\"line2d_28\">\n",
       "      <g>\n",
       "       <use style=\"stroke:#000000;stroke-width:0.5;\" x=\"261.134365\" xlink:href=\"#mb3aa78436f\" y=\"228.439219\"/>\n",
       "      </g>\n",
       "     </g>\n",
       "    </g>\n",
       "    <g id=\"xtick_25\">\n",
       "     <g id=\"line2d_29\">\n",
       "      <g>\n",
       "       <use style=\"stroke:#000000;stroke-width:0.5;\" x=\"266.436323\" xlink:href=\"#mb3aa78436f\" y=\"228.439219\"/>\n",
       "      </g>\n",
       "     </g>\n",
       "    </g>\n",
       "    <g id=\"xtick_26\">\n",
       "     <g id=\"line2d_30\">\n",
       "      <g>\n",
       "       <use style=\"stroke:#000000;stroke-width:0.5;\" x=\"271.029087\" xlink:href=\"#mb3aa78436f\" y=\"228.439219\"/>\n",
       "      </g>\n",
       "     </g>\n",
       "    </g>\n",
       "    <g id=\"xtick_27\">\n",
       "     <g id=\"line2d_31\">\n",
       "      <g>\n",
       "       <use style=\"stroke:#000000;stroke-width:0.5;\" x=\"275.080193\" xlink:href=\"#mb3aa78436f\" y=\"228.439219\"/>\n",
       "      </g>\n",
       "     </g>\n",
       "    </g>\n",
       "    <g id=\"xtick_28\">\n",
       "     <g id=\"line2d_32\">\n",
       "      <g>\n",
       "       <use style=\"stroke:#000000;stroke-width:0.5;\" x=\"302.544581\" xlink:href=\"#mb3aa78436f\" y=\"228.439219\"/>\n",
       "      </g>\n",
       "     </g>\n",
       "    </g>\n",
       "    <g id=\"xtick_29\">\n",
       "     <g id=\"line2d_33\">\n",
       "      <g>\n",
       "       <use style=\"stroke:#000000;stroke-width:0.5;\" x=\"316.490409\" xlink:href=\"#mb3aa78436f\" y=\"228.439219\"/>\n",
       "      </g>\n",
       "     </g>\n",
       "    </g>\n",
       "    <g id=\"xtick_30\">\n",
       "     <g id=\"line2d_34\">\n",
       "      <g>\n",
       "       <use style=\"stroke:#000000;stroke-width:0.5;\" x=\"326.385131\" xlink:href=\"#mb3aa78436f\" y=\"228.439219\"/>\n",
       "      </g>\n",
       "     </g>\n",
       "    </g>\n",
       "    <g id=\"xtick_31\">\n",
       "     <g id=\"line2d_35\">\n",
       "      <g>\n",
       "       <use style=\"stroke:#000000;stroke-width:0.5;\" x=\"334.060074\" xlink:href=\"#mb3aa78436f\" y=\"228.439219\"/>\n",
       "      </g>\n",
       "     </g>\n",
       "    </g>\n",
       "    <g id=\"xtick_32\">\n",
       "     <g id=\"line2d_36\">\n",
       "      <g>\n",
       "       <use style=\"stroke:#000000;stroke-width:0.5;\" x=\"340.33096\" xlink:href=\"#mb3aa78436f\" y=\"228.439219\"/>\n",
       "      </g>\n",
       "     </g>\n",
       "    </g>\n",
       "    <g id=\"xtick_33\">\n",
       "     <g id=\"line2d_37\">\n",
       "      <g>\n",
       "       <use style=\"stroke:#000000;stroke-width:0.5;\" x=\"345.632917\" xlink:href=\"#mb3aa78436f\" y=\"228.439219\"/>\n",
       "      </g>\n",
       "     </g>\n",
       "    </g>\n",
       "    <g id=\"xtick_34\">\n",
       "     <g id=\"line2d_38\">\n",
       "      <g>\n",
       "       <use style=\"stroke:#000000;stroke-width:0.5;\" x=\"350.225682\" xlink:href=\"#mb3aa78436f\" y=\"228.439219\"/>\n",
       "      </g>\n",
       "     </g>\n",
       "    </g>\n",
       "    <g id=\"xtick_35\">\n",
       "     <g id=\"line2d_39\">\n",
       "      <g>\n",
       "       <use style=\"stroke:#000000;stroke-width:0.5;\" x=\"354.276788\" xlink:href=\"#mb3aa78436f\" y=\"228.439219\"/>\n",
       "      </g>\n",
       "     </g>\n",
       "    </g>\n",
       "    <g id=\"text_5\">\n",
       "     <!-- $\\beta$ -->\n",
       "     <defs>\n",
       "      <path d=\"M 13.625 3.375 \n",
       "L 8.9375 -20.796875 \n",
       "L -0.09375 -20.796875 \n",
       "L 14.5 54.34375 \n",
       "Q 18.84375 76.609375 39.65625 76.609375 \n",
       "Q 60.75 76.609375 57.171875 57.8125 \n",
       "Q 54.734375 44.4375 45.21875 39.546875 \n",
       "Q 58.015625 35.15625 55.515625 22.125 \n",
       "Q 51.125 -1.078125 27.484375 -1.03125 \n",
       "Q 17.140625 -0.984375 13.625 3.375 \n",
       "M 15.921875 15.09375 \n",
       "Q 19.671875 6.59375 29.296875 6.640625 \n",
       "Q 43.359375 6.640625 46.34375 21.96875 \n",
       "Q 49.03125 35.75 26.171875 34.671875 \n",
       "L 27.78125 42.96875 \n",
       "Q 45.453125 42.671875 48.53125 58.59375 \n",
       "Q 50.640625 69.34375 39.203125 69.28125 \n",
       "Q 26.421875 69.28125 23.484375 54.046875 \n",
       "z\n",
       "\" id=\"DejaVuSans-Oblique-3b2\"/>\n",
       "     </defs>\n",
       "     <g transform=\"translate(214.880625 261.087344)scale(0.11 -0.11)\">\n",
       "      <use transform=\"translate(0 0.390625)\" xlink:href=\"#DejaVuSans-Oblique-3b2\"/>\n",
       "     </g>\n",
       "    </g>\n",
       "   </g>\n",
       "   <g id=\"matplotlib.axis_2\">\n",
       "    <g id=\"ytick_1\">\n",
       "     <g id=\"line2d_40\">\n",
       "      <path clip-path=\"url(#pe00e947265)\" d=\"M 78.900625 228.439219 \n",
       "L 357.900625 228.439219 \n",
       "\" style=\"fill:none;stroke:#b0b0b0;stroke-linecap:square;\"/>\n",
       "     </g>\n",
       "     <g id=\"line2d_41\">\n",
       "      <defs>\n",
       "       <path d=\"M 0 0 \n",
       "L -3.5 0 \n",
       "\" id=\"mf276608588\" style=\"stroke:#000000;\"/>\n",
       "      </defs>\n",
       "      <g>\n",
       "       <use style=\"stroke:#000000;\" x=\"78.900625\" xlink:href=\"#mf276608588\" y=\"228.439219\"/>\n",
       "      </g>\n",
       "     </g>\n",
       "     <g id=\"text_6\">\n",
       "      <!-- −200000 -->\n",
       "      <g transform=\"translate(21.845938 232.238437)scale(0.1 -0.1)\">\n",
       "       <use xlink:href=\"#DejaVuSans-2212\"/>\n",
       "       <use x=\"83.789062\" xlink:href=\"#DejaVuSans-32\"/>\n",
       "       <use x=\"147.412109\" xlink:href=\"#DejaVuSans-30\"/>\n",
       "       <use x=\"211.035156\" xlink:href=\"#DejaVuSans-30\"/>\n",
       "       <use x=\"274.658203\" xlink:href=\"#DejaVuSans-30\"/>\n",
       "       <use x=\"338.28125\" xlink:href=\"#DejaVuSans-30\"/>\n",
       "       <use x=\"401.904297\" xlink:href=\"#DejaVuSans-30\"/>\n",
       "      </g>\n",
       "     </g>\n",
       "    </g>\n",
       "    <g id=\"ytick_2\">\n",
       "     <g id=\"line2d_42\">\n",
       "      <path clip-path=\"url(#pe00e947265)\" d=\"M 78.900625 201.259219 \n",
       "L 357.900625 201.259219 \n",
       "\" style=\"fill:none;stroke:#b0b0b0;stroke-linecap:square;\"/>\n",
       "     </g>\n",
       "     <g id=\"line2d_43\">\n",
       "      <g>\n",
       "       <use style=\"stroke:#000000;\" x=\"78.900625\" xlink:href=\"#mf276608588\" y=\"201.259219\"/>\n",
       "      </g>\n",
       "     </g>\n",
       "     <g id=\"text_7\">\n",
       "      <!-- −150000 -->\n",
       "      <defs>\n",
       "       <path d=\"M 10.796875 72.90625 \n",
       "L 49.515625 72.90625 \n",
       "L 49.515625 64.59375 \n",
       "L 19.828125 64.59375 \n",
       "L 19.828125 46.734375 \n",
       "Q 21.96875 47.46875 24.109375 47.828125 \n",
       "Q 26.265625 48.1875 28.421875 48.1875 \n",
       "Q 40.625 48.1875 47.75 41.5 \n",
       "Q 54.890625 34.8125 54.890625 23.390625 \n",
       "Q 54.890625 11.625 47.5625 5.09375 \n",
       "Q 40.234375 -1.421875 26.90625 -1.421875 \n",
       "Q 22.3125 -1.421875 17.546875 -0.640625 \n",
       "Q 12.796875 0.140625 7.71875 1.703125 \n",
       "L 7.71875 11.625 \n",
       "Q 12.109375 9.234375 16.796875 8.0625 \n",
       "Q 21.484375 6.890625 26.703125 6.890625 \n",
       "Q 35.15625 6.890625 40.078125 11.328125 \n",
       "Q 45.015625 15.765625 45.015625 23.390625 \n",
       "Q 45.015625 31 40.078125 35.4375 \n",
       "Q 35.15625 39.890625 26.703125 39.890625 \n",
       "Q 22.75 39.890625 18.8125 39.015625 \n",
       "Q 14.890625 38.140625 10.796875 36.28125 \n",
       "z\n",
       "\" id=\"DejaVuSans-35\"/>\n",
       "      </defs>\n",
       "      <g transform=\"translate(21.845938 205.058437)scale(0.1 -0.1)\">\n",
       "       <use xlink:href=\"#DejaVuSans-2212\"/>\n",
       "       <use x=\"83.789062\" xlink:href=\"#DejaVuSans-31\"/>\n",
       "       <use x=\"147.412109\" xlink:href=\"#DejaVuSans-35\"/>\n",
       "       <use x=\"211.035156\" xlink:href=\"#DejaVuSans-30\"/>\n",
       "       <use x=\"274.658203\" xlink:href=\"#DejaVuSans-30\"/>\n",
       "       <use x=\"338.28125\" xlink:href=\"#DejaVuSans-30\"/>\n",
       "       <use x=\"401.904297\" xlink:href=\"#DejaVuSans-30\"/>\n",
       "      </g>\n",
       "     </g>\n",
       "    </g>\n",
       "    <g id=\"ytick_3\">\n",
       "     <g id=\"line2d_44\">\n",
       "      <path clip-path=\"url(#pe00e947265)\" d=\"M 78.900625 174.079219 \n",
       "L 357.900625 174.079219 \n",
       "\" style=\"fill:none;stroke:#b0b0b0;stroke-linecap:square;\"/>\n",
       "     </g>\n",
       "     <g id=\"line2d_45\">\n",
       "      <g>\n",
       "       <use style=\"stroke:#000000;\" x=\"78.900625\" xlink:href=\"#mf276608588\" y=\"174.079219\"/>\n",
       "      </g>\n",
       "     </g>\n",
       "     <g id=\"text_8\">\n",
       "      <!-- −100000 -->\n",
       "      <g transform=\"translate(21.845938 177.878437)scale(0.1 -0.1)\">\n",
       "       <use xlink:href=\"#DejaVuSans-2212\"/>\n",
       "       <use x=\"83.789062\" xlink:href=\"#DejaVuSans-31\"/>\n",
       "       <use x=\"147.412109\" xlink:href=\"#DejaVuSans-30\"/>\n",
       "       <use x=\"211.035156\" xlink:href=\"#DejaVuSans-30\"/>\n",
       "       <use x=\"274.658203\" xlink:href=\"#DejaVuSans-30\"/>\n",
       "       <use x=\"338.28125\" xlink:href=\"#DejaVuSans-30\"/>\n",
       "       <use x=\"401.904297\" xlink:href=\"#DejaVuSans-30\"/>\n",
       "      </g>\n",
       "     </g>\n",
       "    </g>\n",
       "    <g id=\"ytick_4\">\n",
       "     <g id=\"line2d_46\">\n",
       "      <path clip-path=\"url(#pe00e947265)\" d=\"M 78.900625 146.899219 \n",
       "L 357.900625 146.899219 \n",
       "\" style=\"fill:none;stroke:#b0b0b0;stroke-linecap:square;\"/>\n",
       "     </g>\n",
       "     <g id=\"line2d_47\">\n",
       "      <g>\n",
       "       <use style=\"stroke:#000000;\" x=\"78.900625\" xlink:href=\"#mf276608588\" y=\"146.899219\"/>\n",
       "      </g>\n",
       "     </g>\n",
       "     <g id=\"text_9\">\n",
       "      <!-- −50000 -->\n",
       "      <g transform=\"translate(28.208438 150.698437)scale(0.1 -0.1)\">\n",
       "       <use xlink:href=\"#DejaVuSans-2212\"/>\n",
       "       <use x=\"83.789062\" xlink:href=\"#DejaVuSans-35\"/>\n",
       "       <use x=\"147.412109\" xlink:href=\"#DejaVuSans-30\"/>\n",
       "       <use x=\"211.035156\" xlink:href=\"#DejaVuSans-30\"/>\n",
       "       <use x=\"274.658203\" xlink:href=\"#DejaVuSans-30\"/>\n",
       "       <use x=\"338.28125\" xlink:href=\"#DejaVuSans-30\"/>\n",
       "      </g>\n",
       "     </g>\n",
       "    </g>\n",
       "    <g id=\"ytick_5\">\n",
       "     <g id=\"line2d_48\">\n",
       "      <path clip-path=\"url(#pe00e947265)\" d=\"M 78.900625 119.719219 \n",
       "L 357.900625 119.719219 \n",
       "\" style=\"fill:none;stroke:#b0b0b0;stroke-linecap:square;\"/>\n",
       "     </g>\n",
       "     <g id=\"line2d_49\">\n",
       "      <g>\n",
       "       <use style=\"stroke:#000000;\" x=\"78.900625\" xlink:href=\"#mf276608588\" y=\"119.719219\"/>\n",
       "      </g>\n",
       "     </g>\n",
       "     <g id=\"text_10\">\n",
       "      <!-- 0 -->\n",
       "      <g transform=\"translate(62.038125 123.518437)scale(0.1 -0.1)\">\n",
       "       <use xlink:href=\"#DejaVuSans-30\"/>\n",
       "      </g>\n",
       "     </g>\n",
       "    </g>\n",
       "    <g id=\"ytick_6\">\n",
       "     <g id=\"line2d_50\">\n",
       "      <path clip-path=\"url(#pe00e947265)\" d=\"M 78.900625 92.539219 \n",
       "L 357.900625 92.539219 \n",
       "\" style=\"fill:none;stroke:#b0b0b0;stroke-linecap:square;\"/>\n",
       "     </g>\n",
       "     <g id=\"line2d_51\">\n",
       "      <g>\n",
       "       <use style=\"stroke:#000000;\" x=\"78.900625\" xlink:href=\"#mf276608588\" y=\"92.539219\"/>\n",
       "      </g>\n",
       "     </g>\n",
       "     <g id=\"text_11\">\n",
       "      <!-- 50000 -->\n",
       "      <g transform=\"translate(36.588125 96.338437)scale(0.1 -0.1)\">\n",
       "       <use xlink:href=\"#DejaVuSans-35\"/>\n",
       "       <use x=\"63.623047\" xlink:href=\"#DejaVuSans-30\"/>\n",
       "       <use x=\"127.246094\" xlink:href=\"#DejaVuSans-30\"/>\n",
       "       <use x=\"190.869141\" xlink:href=\"#DejaVuSans-30\"/>\n",
       "       <use x=\"254.492188\" xlink:href=\"#DejaVuSans-30\"/>\n",
       "      </g>\n",
       "     </g>\n",
       "    </g>\n",
       "    <g id=\"ytick_7\">\n",
       "     <g id=\"line2d_52\">\n",
       "      <path clip-path=\"url(#pe00e947265)\" d=\"M 78.900625 65.359219 \n",
       "L 357.900625 65.359219 \n",
       "\" style=\"fill:none;stroke:#b0b0b0;stroke-linecap:square;\"/>\n",
       "     </g>\n",
       "     <g id=\"line2d_53\">\n",
       "      <g>\n",
       "       <use style=\"stroke:#000000;\" x=\"78.900625\" xlink:href=\"#mf276608588\" y=\"65.359219\"/>\n",
       "      </g>\n",
       "     </g>\n",
       "     <g id=\"text_12\">\n",
       "      <!-- 100000 -->\n",
       "      <g transform=\"translate(30.225625 69.158437)scale(0.1 -0.1)\">\n",
       "       <use xlink:href=\"#DejaVuSans-31\"/>\n",
       "       <use x=\"63.623047\" xlink:href=\"#DejaVuSans-30\"/>\n",
       "       <use x=\"127.246094\" xlink:href=\"#DejaVuSans-30\"/>\n",
       "       <use x=\"190.869141\" xlink:href=\"#DejaVuSans-30\"/>\n",
       "       <use x=\"254.492188\" xlink:href=\"#DejaVuSans-30\"/>\n",
       "       <use x=\"318.115234\" xlink:href=\"#DejaVuSans-30\"/>\n",
       "      </g>\n",
       "     </g>\n",
       "    </g>\n",
       "    <g id=\"ytick_8\">\n",
       "     <g id=\"line2d_54\">\n",
       "      <path clip-path=\"url(#pe00e947265)\" d=\"M 78.900625 38.179219 \n",
       "L 357.900625 38.179219 \n",
       "\" style=\"fill:none;stroke:#b0b0b0;stroke-linecap:square;\"/>\n",
       "     </g>\n",
       "     <g id=\"line2d_55\">\n",
       "      <g>\n",
       "       <use style=\"stroke:#000000;\" x=\"78.900625\" xlink:href=\"#mf276608588\" y=\"38.179219\"/>\n",
       "      </g>\n",
       "     </g>\n",
       "     <g id=\"text_13\">\n",
       "      <!-- 150000 -->\n",
       "      <g transform=\"translate(30.225625 41.978437)scale(0.1 -0.1)\">\n",
       "       <use xlink:href=\"#DejaVuSans-31\"/>\n",
       "       <use x=\"63.623047\" xlink:href=\"#DejaVuSans-35\"/>\n",
       "       <use x=\"127.246094\" xlink:href=\"#DejaVuSans-30\"/>\n",
       "       <use x=\"190.869141\" xlink:href=\"#DejaVuSans-30\"/>\n",
       "       <use x=\"254.492188\" xlink:href=\"#DejaVuSans-30\"/>\n",
       "       <use x=\"318.115234\" xlink:href=\"#DejaVuSans-30\"/>\n",
       "      </g>\n",
       "     </g>\n",
       "    </g>\n",
       "    <g id=\"ytick_9\">\n",
       "     <g id=\"line2d_56\">\n",
       "      <path clip-path=\"url(#pe00e947265)\" d=\"M 78.900625 10.999219 \n",
       "L 357.900625 10.999219 \n",
       "\" style=\"fill:none;stroke:#b0b0b0;stroke-linecap:square;\"/>\n",
       "     </g>\n",
       "     <g id=\"line2d_57\">\n",
       "      <g>\n",
       "       <use style=\"stroke:#000000;\" x=\"78.900625\" xlink:href=\"#mf276608588\" y=\"10.999219\"/>\n",
       "      </g>\n",
       "     </g>\n",
       "     <g id=\"text_14\">\n",
       "      <!-- 200000 -->\n",
       "      <g transform=\"translate(30.225625 14.798438)scale(0.1 -0.1)\">\n",
       "       <use xlink:href=\"#DejaVuSans-32\"/>\n",
       "       <use x=\"63.623047\" xlink:href=\"#DejaVuSans-30\"/>\n",
       "       <use x=\"127.246094\" xlink:href=\"#DejaVuSans-30\"/>\n",
       "       <use x=\"190.869141\" xlink:href=\"#DejaVuSans-30\"/>\n",
       "       <use x=\"254.492188\" xlink:href=\"#DejaVuSans-30\"/>\n",
       "       <use x=\"318.115234\" xlink:href=\"#DejaVuSans-30\"/>\n",
       "      </g>\n",
       "     </g>\n",
       "    </g>\n",
       "    <g id=\"text_15\">\n",
       "     <!-- $I/I_0$ -->\n",
       "     <defs>\n",
       "      <path d=\"M 16.890625 72.90625 \n",
       "L 26.8125 72.90625 \n",
       "L 12.59375 0 \n",
       "L 2.6875 0 \n",
       "z\n",
       "\" id=\"DejaVuSans-Oblique-49\"/>\n",
       "      <path d=\"M 25.390625 72.90625 \n",
       "L 33.6875 72.90625 \n",
       "L 8.296875 -9.28125 \n",
       "L 0 -9.28125 \n",
       "z\n",
       "\" id=\"DejaVuSans-2f\"/>\n",
       "     </defs>\n",
       "     <g transform=\"translate(15.558281 127.419219)rotate(-90)scale(0.11 -0.11)\">\n",
       "      <use transform=\"translate(0 0.09375)\" xlink:href=\"#DejaVuSans-Oblique-49\"/>\n",
       "      <use transform=\"translate(29.492188 0.09375)\" xlink:href=\"#DejaVuSans-2f\"/>\n",
       "      <use transform=\"translate(63.183594 0.09375)\" xlink:href=\"#DejaVuSans-Oblique-49\"/>\n",
       "      <use transform=\"translate(92.675781 -16.3125)scale(0.7)\" xlink:href=\"#DejaVuSans-30\"/>\n",
       "     </g>\n",
       "    </g>\n",
       "   </g>\n",
       "   <g id=\"line2d_58\">\n",
       "    <path clip-path=\"url(#pe00e947265)\" d=\"M 101.079901 -1 \n",
       "L 101.759639 15.216473 \n",
       "L 104.951501 70.750026 \n",
       "L 108.143364 110.46795 \n",
       "L 111.335227 138.134922 \n",
       "L 114.52709 156.694002 \n",
       "L 117.718952 168.436969 \n",
       "L 120.910815 175.140516 \n",
       "L 124.102678 178.174994 \n",
       "L 127.294541 178.591097 \n",
       "L 130.486404 177.188836 \n",
       "L 133.678266 174.572318 \n",
       "L 136.870129 171.193162 \n",
       "L 140.061992 167.384826 \n",
       "L 143.253855 163.389677 \n",
       "L 146.445717 159.380286 \n",
       "L 149.63758 155.47612 \n",
       "L 152.829443 151.756579 \n",
       "L 156.021306 148.271143 \n",
       "L 159.213168 145.047233 \n",
       "L 162.405031 142.096259 \n",
       "L 165.596894 139.418264 \n",
       "L 168.788757 137.005442 \n",
       "L 171.980619 134.844801 \n",
       "L 175.172482 132.920139 \n",
       "L 178.364345 131.213508 \n",
       "L 181.556208 129.70627 \n",
       "L 184.74807 128.379843 \n",
       "L 187.939933 127.21622 \n",
       "L 191.131796 126.198307 \n",
       "L 194.323659 125.310128 \n",
       "L 197.515521 124.536939 \n",
       "L 200.707384 123.865269 \n",
       "L 203.899247 123.282912 \n",
       "L 207.09111 122.778881 \n",
       "L 210.282972 122.343351 \n",
       "L 213.474835 121.967579 \n",
       "L 216.666698 121.643816 \n",
       "L 219.858561 121.365224 \n",
       "L 223.050423 121.125791 \n",
       "L 226.242286 120.920243 \n",
       "L 229.434149 120.743972 \n",
       "L 232.626012 120.592957 \n",
       "L 235.817874 120.463699 \n",
       "L 239.009737 120.353161 \n",
       "L 242.2016 120.258709 \n",
       "L 245.393463 120.178066 \n",
       "L 248.585325 120.109263 \n",
       "L 251.777188 120.050604 \n",
       "L 254.969051 120.000626 \n",
       "L 258.160914 119.95807 \n",
       "L 261.352776 119.921858 \n",
       "L 264.544639 119.89106 \n",
       "L 267.736502 119.864881 \n",
       "L 270.928365 119.84264 \n",
       "L 274.120227 119.823755 \n",
       "L 277.31209 119.807726 \n",
       "L 280.503953 119.794129 \n",
       "L 283.695816 119.782598 \n",
       "L 286.887678 119.772824 \n",
       "L 290.079541 119.764543 \n",
       "L 293.271404 119.75753 \n",
       "L 296.463267 119.751592 \n",
       "L 299.655129 119.746566 \n",
       "L 302.846992 119.742315 \n",
       "L 306.038855 119.738719 \n",
       "L 309.230718 119.735679 \n",
       "L 312.42258 119.73311 \n",
       "L 315.614443 119.730939 \n",
       "L 318.806306 119.729105 \n",
       "L 321.998169 119.727557 \n",
       "L 325.190032 119.726251 \n",
       "L 328.381894 119.725149 \n",
       "L 331.573757 119.724219 \n",
       "L 334.76562 119.723436 \n",
       "L 337.957483 119.722777 \n",
       "L 341.149345 119.722223 \n",
       "L 344.341208 119.721758 \n",
       "L 347.533071 119.72137 \n",
       "L 350.724934 119.721051 \n",
       "L 353.916796 119.720799 \n",
       "L 357.108659 119.720666 \n",
       "\" style=\"fill:none;stroke:#1f77b4;stroke-linecap:square;stroke-width:2;\"/>\n",
       "   </g>\n",
       "   <g id=\"patch_3\">\n",
       "    <path d=\"M 78.900625 228.439219 \n",
       "L 78.900625 10.999219 \n",
       "\" style=\"fill:none;stroke:#000000;stroke-linecap:square;stroke-linejoin:miter;stroke-width:0.8;\"/>\n",
       "   </g>\n",
       "   <g id=\"patch_4\">\n",
       "    <path d=\"M 357.900625 228.439219 \n",
       "L 357.900625 10.999219 \n",
       "\" style=\"fill:none;stroke:#000000;stroke-linecap:square;stroke-linejoin:miter;stroke-width:0.8;\"/>\n",
       "   </g>\n",
       "   <g id=\"patch_5\">\n",
       "    <path d=\"M 78.900625 228.439219 \n",
       "L 357.900625 228.439219 \n",
       "\" style=\"fill:none;stroke:#000000;stroke-linecap:square;stroke-linejoin:miter;stroke-width:0.8;\"/>\n",
       "   </g>\n",
       "   <g id=\"patch_6\">\n",
       "    <path d=\"M 78.900625 10.999219 \n",
       "L 357.900625 10.999219 \n",
       "\" style=\"fill:none;stroke:#000000;stroke-linecap:square;stroke-linejoin:miter;stroke-width:0.8;\"/>\n",
       "   </g>\n",
       "  </g>\n",
       " </g>\n",
       " <defs>\n",
       "  <clipPath id=\"pe00e947265\">\n",
       "   <rect height=\"217.44\" width=\"279\" x=\"78.900625\" y=\"10.999219\"/>\n",
       "  </clipPath>\n",
       " </defs>\n",
       "</svg>\n"
      ],
      "text/plain": [
       "<matplotlib.figure.Figure at 0x10cf46fd0>"
      ]
     },
     "metadata": {},
     "output_type": "display_data"
    }
   ],
   "source": [
    "fig = plt.figure(figsize=(5,4))\n",
    "ax = plt.subplot(111)\n",
    "ax.set_ylim(-2e5, 2e5)\n",
    "ax.grid()\n",
    "ax.set_xscale(\"log\")\n",
    "ax.set_xlabel(r\"$\\beta$\")\n",
    "ax.set_ylabel(\"$I/I_0$\")\n",
    "ax.set_xlim(3e-4, 1e0)\n",
    "ax.set_ylim(-2e5, 2e5)\n",
    "\n",
    "x = np.logspace(-4, -0.01, 100) #To avoid beta = 1 and an divided by 0 error we put the maximum to 10**(-1e-9)\n",
    "ax.plot(x, Ionization(x, m_m), lw=2, label=\"Electron\")\n",
    "plt.show()"
   ]
  },
  {
   "cell_type": "markdown",
   "metadata": {},
   "source": [
    "####  Radiation losses\n",
    "In addition to ionization losses, high energy electrons also undergo **bremsstrahlung** or braking radiation given by:\n",
    "\n",
    "$$\\left(\\frac{{\\rm d} E}{{\\rm d} x}\\right)_{rad} = -\\frac{E}{X_0}$$ \n",
    "where the **radiation length** is:\n",
    "\n",
    "$$\\frac{1}{X_0} = 4 \\alpha\\left(\\frac{Z}{A}\\right)(Z + 1)^2r_e^2N_0\\log\\left(\\frac{183}{Z^{1/3}}\\right)$$\n",
    "\n",
    "where $r_e = e^2/4\\pi m_e c^2$ is the classical electron radius and $\\alpha = \\frac{1}{137}$ is the fine structure constant. \n",
    "\n",
    "* Bremsstrahlung is proportional to $\\frac{1}{X_0} \\propto r^2_{e} \\propto 1/m_e^2$. The radiation length of a muon will be $(m_\\mu/m_e)^2$ times that for an electron.\n",
    "* Bremsstrahlung is proportional to the energy.\n",
    "\n",
    "The critical energy is the energy at $({\\rm d}E/{\\rm d}x)_{ion} = ({\\rm d}E/{\\rm d}x)_{rad}$. Above this energy the radiation process dominates, below the ionization. Roughly $E_c \\sim 600/Z$ MeV.\n"
   ]
  },
  {
   "cell_type": "markdown",
   "metadata": {},
   "source": [
    "####  Cherenkov Radiation\n",
    "\n",
    "When relativistic particles traverse a medium at a speed greater than the speed of light in that medium it can induce Cherenkov radiation. "
   ]
  },
  {
   "cell_type": "markdown",
   "metadata": {},
   "source": [
    "<div>\n",
    "<img src=\"http://upload.wikimedia.org/wikipedia/commons/8/87/Cherenkov_radiation-animation.gif\" style=\"float:middle\"\\>\n",
    "<p>Source: Wikipedia </p>\n",
    "</div>"
   ]
  },
  {
   "cell_type": "markdown",
   "metadata": {},
   "source": [
    "Cherenkov light is emitted in the UV and blue region in a narrow cone with angle:\n",
    "\n",
    "$$\\cos \\theta = \\frac{ct/n}{\\beta c t} = \\frac{1}{\\beta n}$$\n",
    "\n",
    "so the threshold for production is $\\beta > \\frac{1}{n}$. Most of the components in the air shower will produced abundant Cherenkov light.\n",
    "\n",
    "We will see more on Cherenkov radiation on the next lesson about $\\gamma$-ray astronomy."
   ]
  },
  {
   "cell_type": "markdown",
   "metadata": {},
   "source": [
    "\n",
    "#### Pair production\n",
    "\n",
    "If a photon from bremsstrahlung has enougth energy $E_\\gamma > 2 m_e$ it can produced a pair of electron positron. The cross-section rises quickly at the threshod of $2 m_e$ but in the high energy part it can be approximated to:\n",
    "\n",
    "$$\\sigma = \\frac{7}{9} r_0^2 Z (Z+ 1)\\log \\left(\\frac{183}{3\\sqrt{Z}}\\right)$$\n",
    "\n",
    "The pair production cannot occure in vacum, a photon desintegrated to the pair $e^-e^+$ will have a null momentum in the CoM system, therefore a nucleus has to be present to absorb the momemtum. \n",
    "As can be seen the radiation length $X_0$ is very similar to the one from radiation losses. In fact we can write:\n",
    "\n",
    "$$\\frac{1}{X_{pair}} = \\frac{7}{9}\\frac{1}{X_0}$$\n",
    "\n",
    "Which means that the ** radiation lengths for braking radiation and pair production are comparable**.\n"
   ]
  },
  {
   "cell_type": "markdown",
   "metadata": {},
   "source": [
    "### Electromagnetic shower\n",
    "\n",
    "When photons from radiation losses of electrons, have enough energy to produce pairs of positrons electrons, these hey also can produce photons which, in turn, can also produces pairs, etc, etc. This is called an **electromagnetic shower**.\n",
    "\n",
    "#### The Heitler toy model \n",
    "\n",
    "The Heitler toy model explains very well the development of an electromagnetic shower.\n",
    "As we saw, in the ultrarelativistic limit the radiation lenghs for pair production and bremsstrahung are comparable. We can defined a distance $d_{split} = X_0 \\log2$ where an electron will looses, on average, half of its energy. \n",
    "\n",
    "An electron with inital energy $E_0$ in a medium will generate a photon in a $d_{split}$ length of energy $E_0/2$, in the next radiation length the photon can convert into $e^+e^-$ each with energies $E_0/4$. After $t$ steps the electrons, positrons will have energies of $E(t)=E_0/2^t$. This continues until the electrons, positrons fall below the critical energy of electrons, $\\epsilon_e$, and ionization dominates. The process is illustrated in the figure below, where each step $n$ corresponds to one radiation length."
   ]
  },
  {
   "cell_type": "markdown",
   "metadata": {},
   "source": [
    "<div>\n",
    "<img src=\"images/em-shower.svg\" width=\"50%\" style=\"float:middle\"\\>\n",
    "</div>"
   ]
  },
  {
   "cell_type": "markdown",
   "metadata": {},
   "source": [
    "The Heitler model has the following properties:\n",
    "\n",
    "* The shower has maximum at:\n",
    "\n",
    "$$t_{max} = \\frac{\\log(E_0/\\epsilon_e)}{\\log2}$$\n",
    "\n",
    "* The maximum number of particles is:\n",
    "\n",
    "$$N_{max} = 2^{t_{max}} = \\frac{E_0}{\\epsilon_e}$$\n",
    "\n",
    "\n",
    "* The shower maximum will be at a depth $X_{max}$:\n",
    "\n",
    "$$X_{max}=d_{split} \\frac{\\log(E_0/\\epsilon_e)}{\\log2} = X_0 \\log(E_0/\\epsilon_e)$$\n",
    "\n",
    "For air $\\epsilon_e = 85$ MeV and the **radiation length** $X_0 = 36.7 {\\rm g/cm}^2$.<br>\n",
    "\n",
    "Actual showers also spread laterally mostly due to Coulomb scattering. The lateral spread is a few times the so-called **Moliere unit** equal to $21/\\epsilon_e$ (MeV).\n",
    "\n",
    "The $X_{max}$ prediction of the Heitler model is in good agreement with Monte Carlo simulations. However, the electron to photon ratio of 2 is not in agreement given that the model predicts only one photon emitted by bremsstrahlung. Simulations show a ratio of 1/6 since in reality several photons are emitted and electrons lose energy much faster than photons do. "
   ]
  },
  {
   "cell_type": "markdown",
   "metadata": {
    "slideshow": {
     "slide_type": "subslide"
    }
   },
   "source": [
    "### Hadronic showers\n",
    "\n",
    "Before modeling the baryon-induced showers or hadronic showers, we need to estimate the *nuclean mean free path* in the atmosphere. The nucleon mean free path, $\\lambda^{air}_N$, in the atmosphere is given (in g/cm$^2$) by:\n",
    "\n",
    "$$\\lambda^{air}_N = \\frac{Am_p}{\\sigma_N^{air}}$$\n",
    "\n",
    "where $\\sigma_N^{air}$ is the nucleon cross-section in air, $A$ is mean the mass number of air nuclei (mainly nitrogen, oxygen) and $m_p$ is the proton mass. Assuming $A \\sim 14.5$ and $\\sigma_N^{air} \\approx$ 300 mb, it corresponds to $\\lambda_N^{air} \\approx 80$g/cm$^{2}$.\n"
   ]
  },
  {
   "cell_type": "markdown",
   "metadata": {
    "slideshow": {
     "slide_type": "skip"
    }
   },
   "source": [
    "The *standard* mean free path is: $l = (n\\sigma^{air}_N)^{-1}$ where $n$ is the **number** density of air nuclei ie:\n",
    "\n",
    "$$n = \\frac{N_T}{V}$$\n",
    "\n",
    "Where $N_T$ is the total number of air nuclei and V is total air volume. $\\sigma^{air}_N$ is the nucleon-air cross section. \n",
    "\n",
    "The *density mean free path* is $\\lambda = \\rho l$, but $\\rho = M_T/V$ and $M_T = N_T \\cdot m_{air}$ where $m_{air}$ is mass of an air nuclei. Putting everything together:\n",
    "\n",
    "$$\\lambda^{air}_N = \\rho l = \\frac{N_T m_{air}}{V}\\frac{V}{N_T\\sigma_{air}} = \\frac{m_{air}}{\\sigma_{air}}$$\n",
    "\n",
    "where we can use $m_{air} = A m_p$. Note that this definition is independent of the mass density, so if the density changes with altitude like in our atmosphere, the density mean free path is the same."
   ]
  },
  {
   "cell_type": "markdown",
   "metadata": {},
   "source": [
    "#### Heitler model for hadronic air showers\n",
    "\n",
    "In the heitler model we can imagine a proton initiating the cascade instead of a photon/electron, in this case a hadronic air shower will develope:"
   ]
  },
  {
   "cell_type": "markdown",
   "metadata": {},
   "source": [
    "<div>\n",
    "<img src=\"images/proton_eas.png\" width=\"20%\" style=\"float:middle\"\\>\n",
    "</div>"
   ]
  },
  {
   "cell_type": "markdown",
   "metadata": {},
   "source": [
    "We can assume that the first interaction is defined by the proton mean free path $\\lambda^{air}_N$. Denining the first interaction point where the proton will lose (on average) half of its energy this first interaction length is given as $\\lambda^{air}_{N} \\log 2$ where for protons $\\lambda^{air}_N \\approx 80$g/cm. After the first interaction we can use the simplified assumption that the hadronic interaction produces only $3N_\\pi$ pions. 2$N_\\pi$ will be charge pions and $N_\\pi$ will be $\\pi^0$. "
   ]
  },
  {
   "cell_type": "markdown",
   "metadata": {},
   "source": [
    "<div>\n",
    "<img src=\"images/hadronic-shower.svg\" width=\"50%\" style=\"float:middle\"\\>\n",
    "</div>"
   ]
  },
  {
   "cell_type": "markdown",
   "metadata": {},
   "source": [
    "We also assume the energy is equally distributed among them, so $2/3E_0$ will go to charge pions and $1/3E_0$ will go to the neutral pions. The $\\pi^0$ has a very short decay time, so it will decay and produce an electromagnetic shower. Charge pions will continue generating hadronic shower in each $d_{split} = \\lambda_{\\pi}^{air} \\log 2$ with the mean free path of pions $\\lambda_\\pi^{air} \\sim 120$g/cm$^2$ until they reach the critical energy where pions decay is more probable than interactions $\\epsilon_\\pi$. On each step we assume that energy is equally divided among the $3 N_\\pi$ pions. Thefore at each step $t$ the energy of the pions is:\n",
    "\n",
    "$$E_\\pi = \\frac{E_0}{(3N_\\pi)^t} $$\n",
    "\n",
    "The number of radiation lengths $t$ to reach the critical energy ie $E_\\pi = \\epsilon_\\pi$, and is given (as in the case of EM showers):\n",
    "\n",
    "$$t_{max} = \\frac{\\log(E_0/\\epsilon_\\pi)}{\\log(3N_\\pi)}$$ "
   ]
  },
  {
   "cell_type": "markdown",
   "metadata": {},
   "source": [
    "Assuming that after that energy all pions decay to muons, the number of muons is given by:\n",
    "\n",
    "$$N_\\mu =(2N_\\pi)^{t_{max}}$$\n",
    "\n",
    "introducing $\\beta = \\log(2N_\\pi)/\\log(3N_\\pi)$ we have:\n",
    "\n",
    "$$N_\\mu =(E_0/\\epsilon_\\pi)^\\beta $$\n",
    "\n",
    "This is also called the *multiplicity* and corresponds to the muon bundles as we will see later.\n",
    "For pions between  1 GeV and 10 TeV an appropiate number is $N_\\pi = 5$ and in that case $\\beta = 0.85$. Therefore the number of muons doesn't grow linearly with the intial energy but a slower rate.\n",
    "\n",
    "The definition of $X_{max}$ is somehow less clear than in an EM shower. Hadronic showers are still dominated by electromagnetic processes, so we can assume that $X_{max}$ depdens dominantly on the first generation of $\\pi^0$ subshowers. For proton primaries, the first interaction will be given by the nucleon mean free path where in this first interaction the proton splits in $3N_\\pi$ particles. The depth of maximum is then obtained as:\n",
    "\n",
    "$$X_{max} = \\lambda^{air}_N \\log2 + X_0 \\log 2 \\frac{\\log(E_0/\\epsilon_e)}{\\log(3N_\\pi)} $$\n",
    "\n",
    "where again $\\epsilon_e$ is the critical energy of electrons. The expected values of this formula are low when compared to detailed simulations because it neglects the contributions of the next one or two generation of $\\pi^0$ production."
   ]
  },
  {
   "cell_type": "markdown",
   "metadata": {},
   "source": [
    "#### Superposition model for heavy nuclei air showers\n",
    "\n",
    "We can extend the discussion to heavy nuclei by adopting the *Superposition model* in which a nucleus of mass A and energy $E_0$ essentially generates $A$ subshowers of energy $E_0/A$. In that case the muon multiplicity will be:\n",
    "\n",
    "$$N_\\mu = A \\left(\\frac{E_0}{A\\epsilon_\\pi}\\right)^\\beta \\propto E_0^\\beta A^{1 - \\beta} $$\n",
    "\n",
    "therefore the muon multiplicity will depend on the CR composition. Likewise the shower maximum is given by:\n",
    "\n",
    "$$X^{A}_{max} = X_{max}^{p}(E_0) - X_0\\log{A}$$\n",
    "\n",
    "ie, for a given energy $E_0$ the shower max depends on the mass of the CR primary and it is typicall smaller than for protons (ie reach the maximum sooner in the atmosphere). For composition studies therefore it is necessary to measure $X_{max}$ and the energy of the shower, which can be estimated from fluorescence techniques."
   ]
  },
  {
   "cell_type": "markdown",
   "metadata": {},
   "source": [
    "## The muonic component\n",
    "\n",
    "### Muons and neutrinos"
   ]
  },
  {
   "cell_type": "markdown",
   "metadata": {},
   "source": [
    "<div>\n",
    "<img src=\"images/cr_fig3_07.png\" width=\"40%\" style=\"float:middle\"\\>\n",
    "<p>Source: Particle Data Group </p>\n",
    "</div>"
   ]
  },
  {
   "cell_type": "markdown",
   "metadata": {
    "slideshow": {
     "slide_type": "slide"
    }
   },
   "source": [
    "* Primaries dominate up to 9 km, secondaries (electrons, pions) roughly follow the primary shape. Muons and neutrinos are continously produced.\n",
    "\n",
    "* Vertical fluxes for $E > 1$ GeV. Points show the $\\mu^-$ measurements.\n",
    "Muons and neutrinos are produced in\n",
    "decays of mesons which are themselves\n",
    "produced by interactions of CR\n",
    "particles with air nuclei.\n",
    "* They are the dominant flux at sea level and the only ones that can penetrate deep underground.\n",
    "\n",
    "Electrons and nucleons fluxes above 1 GeV/$c$ are about 0.2 and 2 m$^{-2}$ s$^{-1}$ sr$^{-1}$ at sea level. Nucleons are the degraded remnants of the primary cosmic radiation. At sea level about 1/3 are neutrons."
   ]
  },
  {
   "cell_type": "markdown",
   "metadata": {
    "slideshow": {
     "slide_type": "skip"
    }
   },
   "source": [
    "### Muons and neutrinos productions\n",
    "\n",
    "The most important channels for muon and neutrino production are:\n",
    "\n",
    "* Two body decays\n",
    "$$\\pi^{\\pm} \\rightarrow \\mu^{\\pm} + \\nu_{\\mu}({ \\bar \\nu_\\mu}) \\rm{\\;\\; (\\sim 100\\%)}$$\n",
    "$$K^{\\pm} \\rightarrow \\mu^{\\pm} + \\nu_{\\mu}({\\bar \\nu_\\mu}) \\rm{\\;\\; (\\sim 63.5\\%)}$$\n",
    "\n",
    "* Three body decay\n",
    "    $$K_L \\rightarrow \\pi^{\\pm} e^{\\pm}\\nu_e({\\bar \\nu_e}) \\rm{\\;\\; (\\sim 38.7\\%)}$$\n",
    "\n",
    "At lower energies, the muon decay is also important: \n",
    "\n",
    "$$ \\mu^{\\pm} \\rightarrow e^{\\pm} + \\nu_{e}({\\bar \\nu_e}) + {\\bar \\nu_{\\mu}}(\\nu_\\mu)$$\n",
    "\n",
    "For each of the 2-body decay channels, assuming the muon always decay the neutrino flavor ratio is: \n",
    "\n",
    "$$\\boldsymbol{ \\nu_\\mu : \\nu_e = 2:1}$$"
   ]
  },
  {
   "cell_type": "markdown",
   "metadata": {
    "slideshow": {
     "slide_type": "subslide"
    }
   },
   "source": [
    "### Mean free path for mesons, $\\pi$, K\n",
    "\n",
    "Charged pions and Kaons can interact or decay. Both processes have a mean free path and one or the other will dominate depending on which mean free path is larger.\n",
    "\n",
    "* The **decay mean free path** of pions is given by $\\lambda^d_\\pi =\\gamma  c \\tau_\\pi$ where $\\gamma$ is the lorentz boost. Multiplying for density we have $d_\\pi = \\rho(X) \\gamma  c \\tau_\\pi$. However the atmosphere density depends on the atmospheric depth as $\\rho(X) = X/h_0$. In units of *slant depth*, $X_{sd} = X/\\cos\\theta$ and expanding $\\gamma = E / m_\\pi c^2$ is defined as:\n",
    "\n",
    "$$\\frac{1}{d_\\pi} = \\frac{m_\\pi c^2 h_0}{E c \\tau_\\pi X_{sd} \\cos \\theta} = \\frac{\\epsilon_\\pi}{E X_{sd} \\cos\\theta}$$\n",
    "\n",
    "where $E$, $m_\\pi$, $\\tau_\\pi$ are the pion energy, mass and lifetime and we defined:\n",
    "\n",
    "$$\\epsilon_\\pi = \\frac{c\\tau_\\pi}{m_\\pi c^2 h_0}$$\n",
    "\n",
    "as a *critial energy* when the decay length equals the *slant depth* ie $d_\\pi(\\epsilon_\\pi) = X_{sd} \\cos\\theta$.\n",
    "\n",
    "* The **interaction mean free path** is the same as nucleon $\\lambda_\\pi = A m_\\pi/\\sigma_\\pi^{air}$ which as we saw is indenpendent of $X$.\n",
    "\n",
    "\n"
   ]
  },
  {
   "cell_type": "markdown",
   "metadata": {
    "slideshow": {
     "slide_type": "subslide"
    }
   },
   "source": [
    "### Critical energy  for mesons, $\\pi$, K\n",
    "\n",
    "Decay or interaction dominates depending on whether $1/d_\\pi$ or $1/\\lambda_\\pi$ is larger. This in turns depends on the ratio between E and $\\epsilon_\\pi$. For pions we have:\n",
    "\n",
    "$$\\epsilon_\\pi = \\frac{c\\tau_\\pi}{m_\\pi c^2 h_0} \\approx 115 \\;{\\rm GeV}$$\n",
    "\n",
    "So we can distinguish two regimes.\n",
    "\n",
    "   * For $E \\gg \\epsilon_\\pi$ decay length is much larger than the slant depth, so interaction dominates.\n",
    "    \n",
    "   * For $E \\ll \\epsilon_\\pi$ decay dominates.\n",
    "\n",
    "The same formulas can be derived for Kaons."
   ]
  },
  {
   "cell_type": "markdown",
   "metadata": {
    "slideshow": {
     "slide_type": "slide"
    }
   },
   "source": [
    "### Muon Fluxes\n",
    "\n",
    "Characteristics of the muon fluxes\n",
    "\n",
    "* Muons are the most numerous charged particles at sea level\n",
    "* The mean energy of muons at the ground is $\\sim$ 4 GeV.\n",
    "* The integral intensity of vertical muons above\n",
    "1 GeV/c at sea level is ≈ 70 m$^{−2}$s$^{−1}$sr$^{−1}$ or $\\approx$ 1 cm$^{-2}$min$^{-1}$.\n",
    "\n",
    "\n"
   ]
  },
  {
   "cell_type": "markdown",
   "metadata": {
    "slideshow": {
     "slide_type": "subslide"
    }
   },
   "source": [
    "\n",
    "#### Energy regimes of muon fluxes\n",
    "\n",
    "Three different regimes are distinguishable:\n",
    "\n",
    "1. $E_\\mu \\leq \\epsilon_\\mu$, where $\\epsilon_\\mu \\sim 1 {\\rm\\;GeV}$. In this case muon decay and muon energy loss are important. The muon flux is suppressed.\n",
    "\n",
    "2. $\\epsilon_\\mu \\leq E_\\mu \\leq \\epsilon_{\\pi,K}$, where $\\epsilon_\\pi = 115 {\\;\\rm GeV}$ and $\\epsilon_K = 850 {\\;\\rm GeV}$. In this range all messons decay and muons follow the same spectrum as mesons and hence of CRs. The muon is almost independent of the zenith angle.\n",
    "\n",
    "3. $E_\\mu \\gg \\epsilon_{\\pi,K}$, Mesons do not decay and muon flux gets suppressed. \n",
    "\n"
   ]
  },
  {
   "cell_type": "markdown",
   "metadata": {
    "slideshow": {
     "slide_type": "subslide"
    }
   },
   "source": [
    "#### Analytical approximation\n",
    "\n",
    "* An approximate extrapolation\n",
    "formula valid when muon decay is negligible ($E_\\mu > 100/\\cos\\theta$ GeV) and the curvature of the Earth can be neglected ($\\theta < 70^{\\circ}$) is given by the Gaisser parametrization:\n",
    "\n",
    "$$\n",
    "\\frac{dN_\\mu}{dE_\\mu d\\Omega} = \\frac{0.14}{\\rm{ cm^2\\;s\\;sr\\;GeV}} \n",
    "\\left(\\frac{E_\\mu}{\\rm{ GeV}}\\right)^{-2.7}\\left[F_\\pi(E_\\mu, \\theta) + \n",
    "F_K(E_\\mu, \\theta)\\right]$$\n",
    "\n",
    "where $F_\\pi$ and $F_K$ represent the contributions from pions and kaons, respectively:\n",
    "\n",
    "$$\n",
    "F_\\pi(E_\\mu, \\theta) = \\frac{1}{1+\\frac{1.1 E_\\mu \\cos\\theta}{115 \\;\\rm {GeV}}} \n",
    "$$\n",
    "\n",
    "$$F_K(E_\\mu, \\theta) = \\frac{0.054}{1+\\frac{1.1 E_\\mu \\cos\\theta}{850{\\;\\rm GeV}}} $$\n"
   ]
  },
  {
   "cell_type": "markdown",
   "metadata": {},
   "source": [
    "### Tutorial II: Plot the muon flux for two different angles"
   ]
  },
  {
   "cell_type": "code",
   "execution_count": 4,
   "metadata": {
    "collapsed": true,
    "slideshow": {
     "slide_type": "subslide"
    }
   },
   "outputs": [],
   "source": [
    "def muons(cangle, E):\n",
    "    a = 1./(1.+ 1.1*E*cangle/115.)\n",
    "    b = 0.054/(1.+ 1.1*E*cangle/850.)\n",
    "    return 0.14 *E**-2.7 *(a + b)"
   ]
  },
  {
   "cell_type": "code",
   "execution_count": 6,
   "metadata": {
    "slideshow": {
     "slide_type": "subslide"
    }
   },
   "outputs": [
    {
     "data": {
      "image/png": "[encoded data removed]",
      "text/plain": [
       "<matplotlib.figure.Figure at 0x10c73b790>"
      ]
     },
     "metadata": {},
     "output_type": "display_data"
    }
   ],
   "source": [
    "fig = plt.figure(figsize=(6,6))\n",
    "ax = plt.subplot(111)\n",
    "ax.set_xscale(\"log\")\n",
    "ax.set_yscale(\"log\")\n",
    "ax.set_ylim(1e-5, 3e-1)\n",
    "ax.set_ylabel(\"$E_\\mu^{2.7} dN_\\mu/dE_\\mu [cm^{-2}s^{-1} (GeV)^{1.7}]$\", fontsize=20)\n",
    "ax.set_xlabel(\"$E_\\mu(GeV)$\", fontsize=20)\n",
    "ax.grid()\n",
    "E = np.arange(1e0, 1e6, 10)\n",
    "ax.plot(E, E**2.7*muons(np.cos(75*np.pi/180.),E), label=r\"$\\theta = 75^{\\circ}$\")\n",
    "ax.plot(E, E**2.7*muons(np.cos(0*np.pi/180.),E), label=r\"$\\theta = 0^{\\circ}$\")\n",
    "plt.legend()\n",
    "plt.show()"
   ]
  },
  {
   "cell_type": "markdown",
   "metadata": {},
   "source": [
    "#### Experimental values\n",
    "In reallity below 10 GeV muon decay and energy loss become imporant and Gaisser parametrization overestimate the muon flux:"
   ]
  },
  {
   "cell_type": "markdown",
   "metadata": {
    "slideshow": {
     "slide_type": "subslide"
    }
   },
   "source": [
    "<div><img src=\"images/atmmu.png\" width=\"50%\" style=\"float:middle\"/>\n",
    "<p>Source: Particle Data Group</p>\n",
    "</div>"
   ]
  },
  {
   "cell_type": "markdown",
   "metadata": {},
   "source": [
    "### Muon Bundles\n",
    "\n",
    "Sometimes muons also come in groups or **bundles** of parallel muons originated from the same primary CR. Muon bundles sometime look like a single high energy muon. The multiplicity (number of muons in the bundle) if can be measured is correlated with the mass of the orignal CR. The image belowe shows a muon-bundle event observed with the MACRO underground detector."
   ]
  },
  {
   "cell_type": "markdown",
   "metadata": {},
   "source": [
    "<div>\n",
    "<img src=\"images/macro-bundle.png\" width=\"100%\" style=\"float:middle\"\\>\n",
    "<p>Source: MACRO collaboration</p>\n",
    "</div>"
   ]
  },
  {
   "cell_type": "markdown",
   "metadata": {
    "slideshow": {
     "slide_type": "subslide"
    }
   },
   "source": [
    "<center><small> Muon bundel event measured in the MACRO undeground detector </small></center>"
   ]
  },
  {
   "cell_type": "markdown",
   "metadata": {},
   "source": [
    "### Charge Ratio\n",
    "\n",
    "The muon charge ratio reflects the excess of $\\pi^+$ over $\\pi^-$ and $K^+$ over $K^−$ and the fact that\n",
    "there are more protons than neutrons in the primary spectrum. "
   ]
  },
  {
   "cell_type": "markdown",
   "metadata": {},
   "source": [
    "<div>\n",
    "<img src=\"images/muon_ratio.png\" width=\"40%\" style=\"float:middle\"\\>\n",
    "<p>Source: Allkofer et. al. Phys. Lett. B36, 425 (1971). Jokisch et. al. Phys. Rev. D19, 1368 (1979)</p>\n",
    "</div>"
   ]
  },
  {
   "cell_type": "markdown",
   "metadata": {
    "slideshow": {
     "slide_type": "subslide"
    }
   },
   "source": [
    "The increase with energy of the ration is due to an increasing importance of kaons coming from the process $ p + N \\rightarrow \\Lambda + K^+$.\n",
    "\n",
    "\n",
    "$$ p + N \\rightarrow p^\\prime + N^\\prime  + k \\pi^+ + k \\pi^- + r\\pi^0 $$\n",
    "$$ p + N \\rightarrow n + N^\\prime  + (k + 1) \\pi^+ + k \\pi^- + r\\pi^0 $$\n",
    "\n",
    "where $k$ and $r$ are the multiplicity of the particle species. Assuming same cross sections we obtain:\n",
    "\n",
    "$$ R = \\frac{N(\\pi^+)}{N(\\pi^-)} = \\frac{2k+1}{2k} = 1 + \\frac{1}{2k} $$\n",
    "\n",
    "for low energies $k = 2$ and $R = 1.25$"
   ]
  },
  {
   "cell_type": "markdown",
   "metadata": {},
   "source": [
    "### Neutrinos Fluxes"
   ]
  },
  {
   "cell_type": "markdown",
   "metadata": {},
   "source": [
    "<div>\n",
    "<img src=\"images/nuflux.png\" width=\"50%\" style=\"float:middle\"\\>\n",
    "<p> Credit:Fluxes from Agrawal et. al. Phys. Rev. D53 1314 (1996)</p>\n",
    "</div>"
   ]
  },
  {
   "cell_type": "markdown",
   "metadata": {},
   "source": [
    "* Neutrinos are the most abundant CR product at sea level, yet they have only recently (compared to other particles) measured due to their extremely low cross-section.\n",
    "\n",
    "* The process giving neutrino fluxes are the same as for the muons (we saw already) plus the muon decay. Taking into account the decay of pions, kaons and muons gives to a flavor ratio of: $\\nu_\\mu : \\nu_e = 2:1$ and $\\nu_e/{\\bar \\nu_e} \\sim \\mu^+/\\mu^-$\n",
    "\n",
    "* At few GeV (> $\\epsilon_\\mu$) muons will not decay and $\\nu_e$ will be supressed as the main source of $\\nu_e$ is the muon decay."
   ]
  },
  {
   "cell_type": "markdown",
   "metadata": {
    "slideshow": {
     "slide_type": "slide"
    }
   },
   "source": [
    "<div class=\"question\">\n",
    "<b>Note:</b> in astrophysical sources the ration 2:1 persists. <a href=\"http://en.wikipedia.org/wiki/Pion#Charged_pion_decays\">Why pions don't decay in to electrons?</a>\n",
    "</div>"
   ]
  },
  {
   "cell_type": "markdown",
   "metadata": {
    "slideshow": {
     "slide_type": "subslide"
    }
   },
   "source": [
    "### Fluxes and kinematics\n",
    "\n",
    "As mentioned neutrinos and muons are strongly correlated. However due the two-body kinematics, the energy spectra of the $\\nu$’s and $\\mu$’s from mesons decay are different. For example, the energy of the muon in CoM is given by: \n",
    "\n",
    "$$E_\\mu^{*} = (m_\\pi^2 + m_\\mu^2)/2m_\\pi = 109.8 {\\rm\\; MeV}$$\n",
    "\n",
    "and for the neutrino:\n",
    "\n",
    "$$E_\\nu^{*} = (m_\\pi^2 - m_\\mu^2)/2m_\\pi = 29.8 {\\rm \\; MeV}$$\n",
    "\n",
    "In the laboratory system, the energies are boosted by\n",
    "the Lorentz factor $\\gamma= E_\\pi /m_\\pi$, but as can be seen muon carry a much larger fraction of energy than neutrinos. \n",
    "For energies about 1 TeV $ < E_\\nu <  10^3$ TeV, the angle averaged atmospheric $\\nu_\\mu + {\\bar \\nu_\\mu}$ can be approximated by a power law spectrum:\n",
    "\n",
    "$$\\frac{\\rm{ d}N_{\\nu_\\mu + {\\bar \\nu_\\mu}}}{\\rm{ d}E_\\nu} = 7.8 \\times 10^{-11}\\left(\\frac{E_\\nu}{1\\rm{\\;TeV}}\\right)^{-3.6} \\rm{ \\; cm^2\\;s^{-1}\\;sr^{-1}\\;GeV^{-1}}$$\n",
    "\n",
    "\n",
    "\n"
   ]
  },
  {
   "cell_type": "markdown",
   "metadata": {},
   "source": [
    "### Fluxes as function of zenith\n",
    "\n",
    "The following plot shows the calculated neutrino flux at 1,300 m depth with energies $E_\\nu = 10$ GeV."
   ]
  },
  {
   "cell_type": "markdown",
   "metadata": {},
   "source": [
    "<div>\n",
    "<img src=images/nu_zenith.png width=\"40%\" style=\"float:middle\">\n",
    "<p>Source: [arXiv:1210.5154](http://arxiv.org/abs/1210.5154) </p>\n",
    "</div>"
   ]
  },
  {
   "cell_type": "markdown",
   "metadata": {
    "slideshow": {
     "slide_type": "fragment"
    }
   },
   "source": [
    "\n",
    "The peak at the horizon in the atmospheric neutrino flux is due to the so-called *secant theta effect*. This effect occurs because pions and kaons that are produced nearly skimming the Earth have more flight time in less dense atmosphere, so they have more chance to decay than interact.\n"
   ]
  },
  {
   "cell_type": "markdown",
   "metadata": {
    "slideshow": {
     "slide_type": "slide"
    }
   },
   "source": [
    "### Prompt Fluxes\n",
    "Apart from kaons and pions, charmed messons will also be produced in the atmosphere. Charm particles have lifetimes so short they almost alway decay before interacting. Muons and neutrinos from charm decay are called *prompt* muons/neutrinos. There are two peculiarities of the prompt fluxes:\n",
    "\n",
    "* The energy spectrum follows the one of the primary cosmic rays.\n",
    "* Since there is no competition between decay and interaction of the charm particle, the *prompt* flux is **isotropic**.\n",
    "* They produced the same amount of $\\nu_\\mu$ and $\\nu_e$.\n",
    "\n",
    "Prompt fluxes have not been observed yet.\n"
   ]
  },
  {
   "cell_type": "markdown",
   "metadata": {},
   "source": [
    "### Summary of neutrino atmospheric fluxes"
   ]
  },
  {
   "cell_type": "markdown",
   "metadata": {
    "slideshow": {
     "slide_type": "slide"
    }
   },
   "source": [
    "<center><img src=\"images/aguilar_geneva2015.001.jpg\" width=\"100%\"></center>"
   ]
  },
  {
   "cell_type": "markdown",
   "metadata": {},
   "source": [
    "## Particles underground"
   ]
  },
  {
   "cell_type": "markdown",
   "metadata": {},
   "source": [
    "### Muon Interactions\n",
    "\n",
    "* <b>Ionisation.</b>The continuous energy loss of muons passing through a medium as it ionize the material along the path. \n",
    "\n",
    "<img src=\"images/muon_ionization.svg\" width=\"40%\" style=\"float:middle\">\n",
    "\n",
    "* <b>Bremsstrahlung.</b> Also called braking radiation. In the electric field of a nucleus or atomic electrons, muons can radiate high energy photons.\n",
    "\n",
    "\n",
    "<img src=\"images/muon_braking.svg\" width=\"40%\" style=\"float:middle\">\n",
    "\n",
    "\n",
    "* <b>Pair production.</b> A muon can radiate a virtual photon which, again in the electric field of a nucleus, can convert into a real $e^+e^-$ pair\n",
    "\n",
    "\n",
    "<img src=\"images/muon_pair-production.svg\" width=\"40%\" style=\"float:middle\">\n",
    "\n",
    "\n",
    "\n",
    "* <b>Photonuclear interactions.</b> A muon can radiate a virtual photon which directly interacts with a nucleus in the muon propagation medium. The interaction is either electromagnetic or following the fluctuation of the photon into a quark-antiquark pair (i.e. a virtual vector meson). \n",
    "\n",
    "\n",
    "\n",
    "<img src=\"images/muon_photonuclear.svg\" width=\"40%\" style=\"float:middle\">\n",
    "\n",
    "\n"
   ]
  },
  {
   "cell_type": "markdown",
   "metadata": {
    "slideshow": {
     "slide_type": "subslide"
    }
   },
   "source": [
    "### Muon Energy losses\n",
    "\n",
    "The energy losses due to ionization are continuous while in radiation processes the energy is lost in bursts along the muon path. The energy loss for muons at high energy can be simplified to:\n",
    "\n",
    "$$\\frac{{\\rm d}E_\\mu}{{\\rm d}X} = -\\alpha -\\beta E_\\mu$$\n",
    "\n",
    "where $X$ is the thickness of the material (in g/cm$^2$), $\\alpha$ is the energy loss due to ionization and $\\beta = \\beta_{br} + \\beta_{pair} + \\beta_{ph}$ are the three discrete energy loss processes: bremsstrahlung, electron-positron production and electromagnetic interaction with the nuclei. Thickness is also given sometimes in units of meters water equivalent (1 m.w.e. = 10$^2$ g/cm$^2$).\n",
    "\n",
    "\n",
    "The **critical energy** is when both losses are equal, ie $\\epsilon_\\mu = \\alpha/\\beta$. Typical values are $\\alpha \\simeq 2$ MeV g$^{-1}$cm$^2$ and $\\beta \\simeq 4 \\times 10^{-6}$g$^{-1}$cm$^2$, so $\\epsilon_\\mu \\approx 500$ GeV.\n",
    "\n"
   ]
  },
  {
   "cell_type": "markdown",
   "metadata": {},
   "source": [
    "### Stocastic energy losses in muons.\n",
    "\n",
    "\n",
    "The following plots showd simulated muons bundles in IceCube. The stocastic energy losses are particular evident in the right figure.  "
   ]
  },
  {
   "cell_type": "markdown",
   "metadata": {
    "slideshow": {
     "slide_type": "subslide"
    }
   },
   "source": [
    "<div>\n",
    "<div style=\"float:left;width:48%\">\n",
    "<img src=\"images/musmooth.jpg\" width=\"100%\" /></div>\n",
    "<div style=\"float:right;width:48%\">\n",
    "<img src=\"images/mustochastic.jpg\" width=\"100%\" />\n",
    "</div>\n",
    "<p> Credit: IceCube collaboration </p>\n",
    "</div>\n",
    "\n"
   ]
  },
  {
   "cell_type": "markdown",
   "metadata": {},
   "source": [
    "### Muon Range\n",
    "\n",
    "\n",
    "\n",
    "By solving the energy loss equation we can estimate the range $R$ for a muon $E_\\mu$, ie the underground depth this muon will reach until its energy is 0  (see Exercises 2):\n",
    "\n",
    "$$ R(E_\\mu) = \\frac{1}{\\beta}\\log\\left( 1 + \\frac{E_\\mu}{\\epsilon_\\mu}\\right)$$\n",
    "\n",
    "Assuming the muon spectrum at sea level can be approximated to a power law $I_\\mu(>E_\\mu) = AE_\\mu^{-\\gamma}$ and using the relationship between range and energy we can write the *depth-intensity relation* (DIR):\n",
    "\n",
    "$$I_\\mu(>E_\\mu, R) = A\\left[\\frac{\\alpha}{\\beta}(e^{\\beta R} - 1)\\right]^{-\\gamma}$$\n",
    "\n",
    "The plot below shows the depth-intensity muons for vertical directions. The grey-area are neutrino-induced muons (horizontal, up-wards)"
   ]
  },
  {
   "cell_type": "markdown",
   "metadata": {
    "slideshow": {
     "slide_type": "subslide"
    }
   },
   "source": [
    "\n",
    "<div>\n",
    "<img src=\"images/muon-depth.png\" width=\"50%\" style:\"float:middle\">\n",
    "</div>\n"
   ]
  },
  {
   "cell_type": "markdown",
   "metadata": {},
   "source": [
    "### Neutrino Interactions\n",
    "#### Weak interaction\n",
    "\n",
    "Neutrinos feel only the weak force thus interactions with matter mediated by W and Z bosons with cross-sections typical of weak processes. Feynman diagrams factor along two lines:\n",
    "\n",
    "* Neutral current (NC) interactions - exchange of Z\n",
    "* Charged current (CC) interaction - exchange of W$^{\\pm}$"
   ]
  },
  {
   "cell_type": "markdown",
   "metadata": {},
   "source": [
    "<div>\n",
    "<img src=\"images/neutrino-interactions.svg\" style=\"float:middle\">\n",
    "</div>"
   ]
  },
  {
   "cell_type": "markdown",
   "metadata": {
    "slideshow": {
     "slide_type": "slide"
    }
   },
   "source": [
    "Neutrinos will scatter from electrons as well as nuclear matter. Below 1 GeV neutrinos interact with hadronds via **elastic** or **quasielastic scattering**.\n",
    "\n",
    "* At $E_\\nu \\gg$ 1 GeV neutrinos do not scatter on hadronds as a compound of quarks, they start to *see* the quarks, **Deep Inelastic Scattering**.\n",
    "    "
   ]
  },
  {
   "cell_type": "markdown",
   "metadata": {},
   "source": [
    "### Neutrino cross-sections at GeV energies\n",
    "\n",
    "The anti-neutrino cross-section at GeV energies is a factor ~2 lower (naively should be 3, but the factor 2 comes from the structure function of the nucleus) than the neutrino cross-section due to the helicity. "
   ]
  },
  {
   "cell_type": "markdown",
   "metadata": {},
   "source": [
    "<div>\n",
    "<img src=\"images/pdg_plot.gif\", width=\"50%\" style=\"float:middle\">\n",
    "<p>Credit: Particle Data Group</p>\n",
    "</div>"
   ]
  },
  {
   "cell_type": "markdown",
   "metadata": {
    "slideshow": {
     "slide_type": "subslide"
    }
   },
   "source": [
    "At $E_\\nu \\gg 1$ GeV the DIS cross-section can be approximated to:\n",
    "\n",
    "$$\\sigma_{\\nu p} \\simeq 0.69 \\times 10^{-38} \\left(\\frac{E_\\nu}{ 1 \\rm{\\; GeV}}\\right) \\rm{ \\; cm}^2$$\n",
    "$$\\sigma_{\\bar{\\nu} p} \\simeq 0.35 \\times 10^{-38}\\left(\\frac{E_\\nu}{ 1 \\rm{\\; GeV}}\\right) \\rm{ \\; cm}^2$$"
   ]
  },
  {
   "cell_type": "markdown",
   "metadata": {
    "slideshow": {
     "slide_type": "subslide"
    }
   },
   "source": [
    "### Tutorial I: Earth is transparent to GeV neutrinos\n"
   ]
  },
  {
   "cell_type": "code",
   "execution_count": 7,
   "metadata": {},
   "outputs": [
    {
     "name": "stdout",
     "output_type": "stream",
     "text": [
      "  Name   = Earth mass\n",
      "  Value  = 5.9742e+24\n",
      "  Uncertainty  = 5e+19\n",
      "  Unit  = kg\n",
      "  Reference = Allen's Astrophysical Quantities 4th Ed.\n",
      "  Name   = Proton mass\n",
      "  Value  = 1.672621777e-27\n",
      "  Uncertainty  = 7.4e-35\n",
      "  Unit  = kg\n",
      "  Reference = CODATA 2010\n",
      "  Name   = Earth equatorial radius\n",
      "  Value  = 6378136.0\n",
      "  Uncertainty  = 0.5\n",
      "  Unit  = m\n",
      "  Reference = Allen's Astrophysical Quantities 4th Ed.\n",
      "The mean free path is:  228532208.123 km\n"
     ]
    }
   ],
   "source": [
    "from astropy import constants as ct\n",
    "from astropy import units as u\n",
    "#Earth mass\n",
    "print ct.M_earth\n",
    "\n",
    "#Neutron/proton mass\n",
    "print ct.m_p \n",
    "\n",
    "#Earth radius\n",
    "print ct.R_earth\n",
    "\n",
    "#number of nucleons\n",
    "N = ct.M_earth/ct.m_n \n",
    "\n",
    "#Earth volume\n",
    "Ve = 4/3*np.pi*ct.R_earth**3\n",
    "\n",
    "#Nucleon density\n",
    "Nd = N/Ve\n",
    "\n",
    "\n",
    "#Cross section\n",
    "s = 1e-38 * u.cm**2\n",
    "#Mean free path:\n",
    "L = 1/(s * Nd.to(1/u.cm**3))\n",
    "\n",
    "print \"The mean free path is: \", L.to(u.km) "
   ]
  },
  {
   "cell_type": "markdown",
   "metadata": {
    "slideshow": {
     "slide_type": "subslide"
    }
   },
   "source": [
    "### Neutrino cross-sections at TeV energies\n",
    "\n",
    "* At low energies the valence quark parton distribution dominates and both the neutrino NC and CC cross-section grows linear with energy since the transfer momemtum $q^2 \\ll M_{W,Z}$ and so the propagator term is $\\sim 1/M^2_{W,Z}$\n",
    "\n",
    "* Above 10$^{4}$ GeV where the gauge-boson propagator restricts the momentum transfer to values near $M_{W,Z}$ ($\\sim 1/(q^2 - M^2_{W,Z})$) and damps the cross-section increase.\n",
    "\n",
    "\n",
    "<center>\n",
    "<img src=\"break_cc_new.png\" width=\"50%\"></center>\n",
    "\n",
    "Calculated neutrino cross sections taken from astro-ph/0310636\n"
   ]
  },
  {
   "cell_type": "markdown",
   "metadata": {},
   "source": [
    "### High energy Cross-Sections\n",
    "\n",
    "The following shows the neutrino cross section:"
   ]
  },
  {
   "cell_type": "markdown",
   "metadata": {
    "slideshow": {
     "slide_type": "subslide"
    }
   },
   "source": [
    "<div>\n",
    "<img src=\"uhenucx.png\" width=\"50%\">\n",
    "</center>\n",
    "<small>Calculated neutrino cross sections taken from [arXiv:1309.1764](http://arxiv.org/abs/1309.1764)</small>\n",
    "\n",
    "* At high energies the asymetry between neutrinos and antineutrinos is lost due to the interaction with *sea quarks* ($q\\bar{q}$)\n",
    "\n",
    "* Neutrinos interact mostly with hadrons (quarks) instead of electrons due the their larger target mass. However at $E_\\nu \\approx 6.3$ PeV the Glashow resonance appears: ${\\hbar \\nu_e} + e \\rightarrow W$ making the cross-section higher than the one with hadrons."
   ]
  },
  {
   "cell_type": "markdown",
   "metadata": {
    "slideshow": {
     "slide_type": "subslide"
    }
   },
   "source": [
    "### Earth Opaque to PeV Neutrinos\n",
    "\n",
    "* At about 100 TeV the mean free path for neutrino-nucleus scattering is about 10$^{10}$ c.m.w.e. which is about the matter thickness along the Earth diameter.\n",
    "\n",
    "* This means that UHE neutrino observatories (like IceCube) the flux of neutrinos comming from the nadir is stronly suppressed.\n",
    "\n",
    "* There is only one exception. A very high energy beam of $\\nu_\\tau$ at one side of the Earth $E\\gg 1$ PeV can end up at the other side as lower energy $\\nu_\\tau, \\nu_e,\\nu_\\mu$ thought the **tau regeneration** effect: $\\nu_\\tau \\rightarrow \\tau \\rightarrow \\nu_\\tau$"
   ]
  },
  {
   "cell_type": "markdown",
   "metadata": {
    "slideshow": {
     "slide_type": "subslide"
    }
   },
   "source": [
    "### Neutrino signatures in a detector\n",
    "\n",
    "<div>\n",
    "<center>\n",
    "<img src=\"images/nu_signatures.png\" width=\"100%\">\n",
    "</center>\n",
    "</div>\n"
   ]
  },
  {
   "cell_type": "markdown",
   "metadata": {
    "slideshow": {
     "slide_type": "skip"
    }
   },
   "source": [
    "* b) In CC $\\nu_e$ interactions an hadronic and EM shower initiated by the $e$ is produced. About 20% of the energy goes inthe hadronic shower and 80% to the lepton and therfore to the EM shower.\n",
    "* d) In CC $\\nu_\\tau$ d) interaction again an hadronic and EM shower are produced as the $\\tau$ decays almost inmediately to pions or other charge leptons. In the decay another $\\nu_\\tau$ is produced **tau regeneration effect**. At very high energyes the two showers can be separated giving a *double bang* signature or a *lollipop* if the first shower happens outside the detector.\n",
    "* c) In CC $\\nu_\\mu$ the muon only undergoes radiation losses (not ionization) and hence the track of the muon can be reconstructed.\n",
    "* a) In NC only an hadronic shower is visible."
   ]
  },
  {
   "cell_type": "markdown",
   "metadata": {
    "slideshow": {
     "slide_type": "subslide"
    }
   },
   "source": [
    "### Event rate in an underground experiment.\n",
    "\n",
    "An estimate of the detection rate of neutrino events is equivalent to calculate the rate of a neutrino-induced muon/cascades flux:\n",
    "\n",
    "$$R(E_{vis}, \\theta) = \\int_{E_{vis}} P_{\\nu\\rightarrow l} (E_\\nu, E_{vis}) P_{shadow}(\\theta, E_\\nu) \\frac{{\\rm d}N_\\nu}{{\\rm d}E_\\nu}{\\rm d}E_\\nu$$ \n",
    "\n",
    "where \n",
    " * $P_{\\nu\\rightarrow l}(E_\\nu, E_{vis})$. Probability that a neutrino interacts with an nucleus to produce a $\\mu$ or an EM or hadronic cascade with a minimum energy $E_{vis}$ *visible* in the detector.\n",
    " * $P_{shadow} (\\theta, E_\\nu)$. Probability of neutrino with zenith angle $\\theta$ and energy $E_\\nu$ of being absorved by Earth.\n",
    " * ${{\\rm d}N_\\nu}/{{\\rm d}E_\\nu}$. Neutrino flux at the surface.\n",
    "\n",
    "\n"
   ]
  },
  {
   "cell_type": "markdown",
   "metadata": {
    "slideshow": {
     "slide_type": "subslide"
    }
   },
   "source": [
    "### Interaction probability: $P_{\\nu\\rightarrow l}$\n",
    "\n",
    "The probability of a neutrino to produce a lepton or shower visible in the detector can be  writen as:\n",
    "\n",
    "$$P_{\\nu \\rightarrow l} = N_A \\int_{E_{min}}^{E_\\nu} {\\rm d}E_l \\frac{{\\rm d}\\sigma}{{\\rm d}E_l}r_l(E_l, E_{vis})$$\n",
    "\n",
    "where $r_l$ is the detection range of the produced lepton/cascade with energy $E_l$ ending with the minimal energy $E_{vis}$, and ${{\\rm d}\\sigma}/{{\\rm d}E_l}$ is the neutrino cross-section to produce a lepton/cascade with energy $E_l$. \n",
    "\n",
    "At high energy the event rate is dominated by neutrino-induced muons due to the long range of the high energy muons.\n"
   ]
  },
  {
   "cell_type": "markdown",
   "metadata": {
    "slideshow": {
     "slide_type": "subslide"
    }
   },
   "source": [
    "### Earth Shadow: $P_{shadow}$\n",
    "\n",
    "The mean free path of neutrinos can be expressed as $\\lambda = (N_A \\sigma_{tot})^{-1}$. The shadow fact then can be expressed as:\n",
    "\n",
    "$$P_{shadow} = e^{-N_A \\sigma_{tot} X(\\theta)}$$\n",
    "\n",
    "Where $X(\\theta)$ is the column depth travelled by the neutrino through the Earth with a zenith angle $\\theta$. \n",
    "\n",
    "See **Exercises 2** for an evaluation of the event rate in an underground detector.\n"
   ]
  },
  {
   "cell_type": "markdown",
   "metadata": {
    "slideshow": {
     "slide_type": "slide"
    }
   },
   "source": [
    "\n",
    "### Oscillations\n",
    "\n",
    "<img src=\"oscillation.png\" width=\"100%\">"
   ]
  },
  {
   "cell_type": "markdown",
   "metadata": {
    "slideshow": {
     "slide_type": "subslide"
    }
   },
   "source": [
    "### Neutrino Oscillations\n",
    "\n",
    "* As a result of these changes in relative phases, neutrinos oscillate from one flavor to another as they travel. Low-energy neutrinos oscillate in a shorter distance than high-energy neutrinos.\n",
    "\n",
    "* A curious aspect of quantum physics is that only the **probability of the flavor of neutrino changes as it travels**.\n",
    "\n",
    "* The neutrino *only becomes a definite flavor when it interacts* in a detector - by finding whether an electron, muon, tau is created.\n",
    "\n",
    "\n"
   ]
  },
  {
   "cell_type": "markdown",
   "metadata": {
    "slideshow": {
     "slide_type": "subslide"
    }
   },
   "source": [
    "### The PMNS Matrix\n",
    "\n",
    "The Pontecorvo-Maki-Nakagawa-Sakata matrix is the one that relates the mass eingenstates with the flavor eingenstates:\n",
    "\n",
    "$$\\begin{pmatrix} \\nu_e \\\\ \\nu_\\mu \\\\ \\nu_\\tau \\end{pmatrix} = U_{PMNS} \\begin{pmatrix} \\nu_1 \\\\ \\nu_2 \\\\ \\nu_1 \\end{pmatrix}$$\n",
    "\n",
    "with:\n",
    "\n",
    "\n",
    "$$\n",
    "\\begin{align*}\n",
    "U_{PMNS} &= \n",
    "\\begin{pmatrix} \n",
    "c_{12}c_{13} & s_{12}c_{13} & s_{13}e^{-i\\delta} \\\\\n",
    "-s_{12}c_{23} - c_{12}s_{23}s_{13}e^{i\\delta} & c_{12}c_{23} - s_{12}s_{23}s_{13}e^{i\\delta} & s_{23}c_{13} \\\\\n",
    "s_{12}s_{23} - c_{12}c_{23}s_{13}e^{i\\delta} & -c_{12}s_{23} - s_{12}c_{23}s_{13}e^{i\\delta} & c_{23}c_{13} \\end{pmatrix} \\\\\n",
    "&= \\begin{pmatrix} \n",
    "1 & 0 & 0 \\\\ 0 & c_{23} & s_{23} \\\\ 0 & -s_{23} & c_{23} \n",
    "\\end{pmatrix}\n",
    "\\begin{pmatrix} \n",
    "c_{13} & 0 & s_{13}e^{-i\\delta} \\\\ 0 & 1 & 0 \\\\ -s_{13}e^{i\\delta} & 0 & c_{13} \n",
    "\\end{pmatrix}\n",
    "\\begin{pmatrix} \n",
    "c_{12} & s_{12} & 0 \\\\ -s_{12} & c_{12} & 0 \\\\ 0 & 0 & 1 \n",
    "\\end{pmatrix}\n",
    "\\end{align*}\n",
    "$$\n",
    "\n",
    "where $s_{ij} = \\sin \\theta_{ij}$, $c_{ij} = \\cos \\theta_{ij}$. The term $\\delta$ is a CP violation term, if $s_{13} = 0$ we won't be able to measure $\\delta$ as it always multiplies $s_{13}$"
   ]
  },
  {
   "cell_type": "markdown",
   "metadata": {
    "slideshow": {
     "slide_type": "subslide"
    }
   },
   "source": [
    "### 2-flavor mixing\n",
    "\n",
    "Let's assume 2 flavor eigenstates identified as rotations of 2 mass eigenstates:\n",
    "\n",
    "$$\\begin{pmatrix} \\nu_e \\\\ \\nu_\\mu \\end{pmatrix} = \\begin{pmatrix} \\cos\\theta & \\sin\\theta \\\\ -\\sin\\theta & \\cos\\theta \\end{pmatrix} \\begin{pmatrix} \\nu_1 \\\\ \\nu_2 \\end{pmatrix}.$$\n",
    "\n",
    "The angle $\\theta$ is called the mixing angle."
   ]
  },
  {
   "cell_type": "markdown",
   "metadata": {
    "slideshow": {
     "slide_type": "skip"
    }
   },
   "source": [
    "The mass eigenstates evolve as plane waves with fixed momemtum $p$:\n",
    "\n",
    "$$|\\nu_{i}(t, x)\\rangle = e^{ -i (E_{i} t - p_i x) }|\\nu_{i}(0,0)\\rangle$$\n",
    "\n",
    "Let's imagine we start at $(x,t) = (0,0)$ with a pure beam of $\\nu_e$:\n",
    "\n",
    "$$\\begin{pmatrix} 1 \\\\ 0 \\end{pmatrix} = \\begin{pmatrix} \\cos\\theta & \\sin\\theta \\\\ -\\sin\\theta & \\cos\\theta \\end{pmatrix} \\begin{pmatrix} \\nu_1(0,0) \\\\ \\nu_2(0,0) \\end{pmatrix}.$$\n",
    "\n",
    "\n",
    "$$|\\nu_{1}(0,0)\\rangle = \\cos \\theta$$\n",
    "$$|\\nu_{2}(0,0)\\rangle = \\sin \\theta$$\n",
    "\n",
    "and as they evolved:\n",
    "\n",
    "$$|\\nu_{1}(t,x)\\rangle = \\cos \\theta e^{ -i (E_{1} t - p_1 x)  }$$\n",
    "$$|\\nu_{2}(t,x)\\rangle = \\sin \\theta e^{ -i (E_{2} t - p_2 x) }$$\n",
    "\n",
    "So after a while the wave form of the $\\nu_\\alpha$ is given by:\n",
    "\n",
    "$$|\\nu_{e}(t, x)\\rangle = \\cos^2 \\theta e^{ -i (E_{1} t - p_1 x)  } + \\sin^2 \\theta e^{ -i (E_{2} t - p_2 x) } = A_e$$\n",
    "$$|\\nu_{\\mu}(t, x)\\rangle = -sin\\theta\\cos \\theta e^{ -i (E_{1} t - p_1 x)  } + \\cos\\theta\\sin \\theta e^{ -i (E_{2} t - p_2 x) } = A_e$$"
   ]
  },
  {
   "cell_type": "markdown",
   "metadata": {
    "slideshow": {
     "slide_type": "skip"
    }
   },
   "source": [
    "### 2-flavor example survival probability\n",
    "\n",
    "$$\\begin{align*}\n",
    "P(\\nu_e \\rightarrow \\nu_\\mu) = \\left|\\langle \\nu_{\\mu}(t,x)|\\nu_{e}(0,0)\\rangle\\right|^2 &=\\left|\\cos\\theta \\sin\\theta (e^{i(E_2 t - p_2 x)} - e^{i(E_1 t -p_1 x)})\\right|^2\\\\\n",
    "&=\n",
    "\\cos^2\\theta\\sin^2\\theta \\left|e^{i(E_2 t - p_2 x)} - e^{i(E_1 t -p_1 x)}\\right|^2\n",
    "\\end{align*}\n",
    "$$\n",
    "\n",
    "using $e^{\\pm ix} = \\cos x \\pm i\\sin x$\n",
    "\n",
    "$$\n",
    "\\begin{align*}\n",
    "P(\\nu_e \\rightarrow \\nu_\\mu)&= 2 \\cos^2\\theta\\sin^2\\theta ( 1 - \\cos (E_2t - p_2x - E_1 t - p_1 x))\\\\\n",
    "&= \\sin^2 2\\theta \\sin^2 \\left(\\frac{(E_2 - E_1)t - (p_2 - p_1)x }{2}\\right) \\\\ \n",
    "&=\\sin^2 2\\theta \\sin^2 \\left(\\frac{\\Delta m_{12}^2 L}{4E}\\right)\n",
    "\\end{align*}\n",
    "$$\n",
    "\n",
    "using $p_i = \\sqrt{E^2_i -m_i^2}\\sim E_i(1-\\frac{m^2_i}{E_i^2})$, and in natural units $t = x = L$ we can write the phase difference as:\n",
    "\n",
    "$$(E_2 - E_1)t - (p_2 - p_1)x = (\\frac{m_1^2}{2E_1}-\\frac{m_2^2}{2E_2})L = \\frac{\\Delta m_{12}^2L}{2E}$$\n",
    "\n",
    "And the survival probability is:\n",
    "\n",
    "$$P(\\nu_e \\rightarrow \\nu_e)  = 1 - P(\\nu_e \\rightarrow \\nu_\\mu) = 1- \\sin^2 2\\theta \\sin^2\\left(\\frac{\\Delta m_{12}^2 L}{4E}\\right)$$\n",
    "\n",
    "Replacing $\\hbar$ and $c$ the expression can be written as:\n",
    "\n",
    "$$P(\\nu_e \\rightarrow \\nu_e)  = 1 - \\sin^2 2\\theta \\sin^2\\left[1.27 \\left(\\frac{\\Delta m^2_{12}}{\\rm{ eV}^2}\\right)\\frac{L/\\rm{ km}}{E/\\rm{ GeV}}\\right]$$\n",
    "\n"
   ]
  },
  {
   "cell_type": "markdown",
   "metadata": {
    "slideshow": {
     "slide_type": "subslide"
    }
   },
   "source": [
    "**NOTE**: We assumed that the mass eigenstates are created with the same energy or momentum and so $E_i = E_j$.This assumption is not necessary and it comes from the fact we use the plane wave approximation. Using the correct formalism of wave packets the result is the same."
   ]
  },
  {
   "cell_type": "markdown",
   "metadata": {},
   "source": [
    "### Tutorial II: Plot the survival probability of $\\nu_e \\rightarrow \\nu_e$"
   ]
  },
  {
   "cell_type": "code",
   "execution_count": 8,
   "metadata": {
    "slideshow": {
     "slide_type": "slide"
    }
   },
   "outputs": [
    {
     "data": {
      "image/png": "[encoded data removed]",
      "text/plain": [
       "<matplotlib.figure.Figure at 0x10c812f50>"
      ]
     },
     "metadata": {},
     "output_type": "display_data"
    }
   ],
   "source": [
    "import astropy.units as u\n",
    "\n",
    "L = 180 # km\n",
    "\n",
    "delta_m_sun = 7.0e-5 # eV^2\n",
    "sin_square_theta_12 = 0.84 #maximum mixing\n",
    "\n",
    "\n",
    "def prob_survival(E, L):\n",
    "    return 1 - sin_square_theta_12 * np.sin(1.27*delta_m_sun * L / E)**2\n",
    "\n",
    "fig, ax = plt.subplots(figsize=(7,7))\n",
    "ax.set_ylim(0,1)\n",
    "ax.set_xlabel(r\"$E_\\nu ({\\rm MeV})$\",  fontsize=20)\n",
    "ax.set_ylabel(\"$P_{ee}$\", fontsize=20)\n",
    "\n",
    "E = np.linspace(0.1, 15, 1000) #in MeV\n",
    "\n",
    "ax.plot(E, prob_survival(E*1e-3,L), lw=2, label=\"L = %i km\\n\"%L+r\"$P_{ee} = 1 -\\sin^2 2\\theta\\sin^2(\\Delta m^2L/4E_\\nu)$\")\n",
    "plt.legend(loc=\"lower right\",  fontsize=20)\n",
    "ax.grid()\n",
    "plt.show()"
   ]
  },
  {
   "cell_type": "markdown",
   "metadata": {
    "slideshow": {
     "slide_type": "subslide"
    }
   },
   "source": [
    "Eventually at low enough E / long baselines, neutrino beam becomes fully mixed and energy resolution and source extent conspire to produce 50/50 beam."
   ]
  },
  {
   "cell_type": "code",
   "execution_count": 9,
   "metadata": {
    "slideshow": {
     "slide_type": "subslide"
    }
   },
   "outputs": [
    {
     "data": {
      "image/png": "[encoded data removed]",
      "text/plain": [
       "<matplotlib.figure.Figure at 0x10b06aa10>"
      ]
     },
     "metadata": {},
     "output_type": "display_data"
    }
   ],
   "source": [
    "y, x = np.meshgrid(np.arange(50,180,1), E)\n",
    "z = prob_survival(x*1e-3,y)\n",
    "fig = plt.figure(figsize=(7,7))\n",
    "ax = plt.subplot(111)\n",
    "img = ax.pcolormesh(x, y, z, cmap = 'RdBu')\n",
    "\n",
    "cax = fig.colorbar(img)\n",
    "ax.set_ylabel(\"Distance (km)\", fontsize=20)\n",
    "ax.set_xlabel(r\"$E_\\nu ({\\rm MeV})$\", fontsize=20)\n",
    "cax.set_label(\"Probability\")\n"
   ]
  },
  {
   "cell_type": "markdown",
   "metadata": {
    "slideshow": {
     "slide_type": "slide"
    }
   },
   "source": [
    "### General case\n",
    "\n",
    "Taking greek letters of the flavor eingenstates and latin letter the mass eingenstates we can write:\n",
    "\n",
    "$$|\\nu_\\alpha(x,t)\\rangle = \\sum_{k=1,2,3} U_{\\alpha k} |\\nu_k (x,t)\\rangle = \\sum_{k=1,2,3} U_{\\alpha k} e^{-i\\Phi_k}|\\nu_k (0,0)\\rangle$$\n",
    "\n",
    "inverting the mixing matrix we have:\n",
    "\n",
    "$$|\\nu_k (0,0)\\rangle =\\sum_\\gamma U^*_{\\gamma  k} |\\nu_\\gamma(0,0)\\rangle$$\n",
    "\n",
    "putting it in the equation above:\n",
    "\n",
    "$$|\\nu_\\alpha(x,t)\\rangle =\\sum_{k=1,2,3} U_{\\alpha k} e^{-i\\Phi_k}\\sum_\\gamma U^*_{\\gamma  k} |\\nu_\\gamma(0,0)\\rangle$$\n",
    "\n",
    "If we want to evaluate the probability of finding a neutrino $\\beta$ when we had $\\alpha$ is the transition amplitude is given by:\n",
    "\n",
    "$$\\begin{align*}\n",
    "\\mathcal{A}(\\nu_\\alpha(0,0)\\rightarrow \\nu_\\beta(x,t)) &= \\langle \\nu_\\beta(x,t)|\\nu_\\alpha(0,0)\\rangle \\\\\n",
    "&= \\sum_\\gamma \\sum_k U_{\\gamma k}e^{i\\Phi_k}U^*_{\\beta k}\\langle \\nu_\\gamma(0,0)|\\nu_\\alpha(0,0)\\rangle \\\\\n",
    "&= \\sum_k U_{\\alpha  k}e^{i\\Phi_k}U^*_{\\beta k}\n",
    "\\end{align*}$$"
   ]
  },
  {
   "cell_type": "markdown",
   "metadata": {
    "slideshow": {
     "slide_type": "skip"
    }
   },
   "source": [
    "\n",
    "\n",
    "\n",
    "where we used the fact that flavor eingenstates are ortogonal and hence $\\langle \\nu_\\gamma(0,0)|\\nu_\\alpha(0,0)\\rangle = \\delta_{\\gamma,\\alpha}$.\n",
    "\n",
    "The oscillation probability is then:\n",
    "\n",
    "$$\\begin{align*}\n",
    "P(\\nu_\\alpha \\rightarrow \\nu_\\beta) = |\\mathcal{A}(\\nu_\\alpha(0,0)\\rightarrow \\nu_\\beta(x,t))|^2 &= \\left|\\sum_k U_{\\alpha i}e^{i\\Phi_i}U^*_{\\beta i}\\right|^2\\\\\n",
    "&=\\sum_i U_{\\alpha i}e^{i\\Phi_i}U^*_{\\beta i}\\sum_j U^*_{\\alpha j}e^{-i\\Phi_j}U_{\\beta j}\\\\\n",
    "&=\\sum_j\\sum_i U_{\\alpha i}U^*_{\\beta i}U^*_{\\alpha j}U_{\\beta j}e^{-i(\\Phi_j-\\Phi_i)}\n",
    "\\end{align*}$$\n",
    "\n",
    "\n",
    "where $\\Phi_i = E_i t- p_i x$ and so:\n",
    "\n",
    "$$\\Phi_i - \\Phi_j = (E_i - E_j)t - (p_i -p_j)x$$\n",
    "\n",
    "using $p_i = \\sqrt{E^2_i -m_i^2}\\sim E_i(1-\\frac{m^2_i}{E_i^2})$ we can write the phase difference as:\n",
    "\n",
    "$$\\Phi_i - \\Phi_j = (\\frac{m_i^2}{2E_i}-\\frac{m_j^2}{2E_j})L = \\frac{\\Delta m_{ij}^2L}{2E}$$\n",
    "\n",
    "where we used the fact that at relativistic speeds $t = x = L$ and a dodgy approximation where we assumed that the mass eigenstates are created with the same energy or momentum and so $E_i = E_j$.This assumption is not necessary, but we find\n",
    "that whatever assumption is made you get the the same result. The fact that we have to make such an approximation comes from the way that we are modelling the mass eigenstates as plane waves. If we were to do the analysis assuming that the mass states were wavepackets instead we would not need the equal momentum (equal energy) assumption and would still get the same answer.\n",
    "\n"
   ]
  },
  {
   "cell_type": "markdown",
   "metadata": {
    "slideshow": {
     "slide_type": "fragment"
    }
   },
   "source": [
    "With this we can rewrite the oscillation probability as:\n",
    "\n",
    "$$\\begin{matrix}P(\\nu_\\alpha \\rightarrow \\nu_\\beta)=\\delta_{\\alpha\\beta} & - & 4{\\displaystyle \\sum_{i>j}{\\rm Re}(U_{\\alpha i}^{*}U_{\\beta i}U_{\\alpha j}U_{\\beta j}^{*}})\\sin^{2}(\\frac{\\Delta m_{ij}^{2}L}{4E})\\\\ & + & {\\displaystyle 2\\sum_{i>j}{\\rm Im}(U_{\\alpha i}^{*}U_{\\beta i}U_{\\alpha j}U_{\\beta j}^{*})\\sin(}\\frac{\\Delta m_{ij}^{2}L}{2E}),\\end{matrix}$$\n",
    "\n",
    "For $\\delta = 0$ the last term is 0."
   ]
  },
  {
   "cell_type": "markdown",
   "metadata": {
    "slideshow": {
     "slide_type": "subslide"
    }
   },
   "source": [
    "### About symmetries.\n",
    "\n",
    "* Consequences of CPT invariance:\n",
    "\n",
    "$$P(\\nu_\\alpha \\rightarrow \\nu_\\beta) = P({\\bar \\nu_\\beta} \\rightarrow {\\bar \\nu_\\alpha})$$\n",
    "\n",
    "* Conditions of CP invariance:\n",
    "\n",
    "$$P(\\nu_\\alpha \\rightarrow \\nu_\\beta) = P({\\bar \\nu_\\alpha} \\rightarrow {\\bar \\nu_\\beta}) $$\n",
    "\n",
    "* Condition os T invariance:\n",
    "\n",
    "$$P({\\nu_\\alpha} \\rightarrow {\\nu_\\beta}) = P({\\nu_\\beta} \\rightarrow {\\nu_\\alpha}){\\rm\\; and\\; }P({\\bar \\nu_\\alpha} \\rightarrow {\\bar \\nu_\\beta}) = P({\\bar \\nu_\\beta} \\rightarrow {\\bar\\nu_\\alpha})$$\n",
    "\n",
    "Only if $U$ is not real we can have CP violation effects ie:\n",
    "\n",
    "$$P(\\nu_\\alpha \\rightarrow \\nu_\\beta) - P({\\bar \\nu_\\alpha} \\rightarrow {\\bar \\nu_\\beta}) ={ 4 \\sum_{i>j}{\\rm Im}(U_{\\alpha i}^{*}U_{\\beta i}U_{\\alpha j}U_{\\beta j}^{*})\\sin(}\\frac{\\Delta m_{ij}^{2}L}{2E})$$"
   ]
  },
  {
   "cell_type": "markdown",
   "metadata": {
    "slideshow": {
     "slide_type": "slide"
    }
   },
   "source": [
    "### Mass hierarchy\n",
    "\n",
    "But this means that neutrinos oscillations can be described in terms of 6 parameters: $\\theta_{12}$, $\\theta_{13}$ and $\\theta_{23}$ plus 2 mass-squared differences, $\\Delta m_{12}^2$ and $\\Delta m_{32}^2$ and one CP violating phase $\\delta_{CP}$. \n",
    "Althought we can measured the mass-squared differences in neutrino oscillation experiments, we cannot know the absolute scales nor the mass hierarchy.\n",
    "<center>\n",
    "<img src=\"https://inspirehep.net/record/1114323/files/Neutrinos_figs_3nuspic.png\" width=\"50%\">\n",
    "</center>\n",
    "\n",
    "Where $\\Delta m_{12}^2 = \\Delta m_{Sol}^2$ and $\\Delta m_{31(2)}^2 = \\Delta m_{atm}^2$. Sometimes $\\Delta m_{atm}^2$ is defined as:\n",
    " $$\\Delta m_{atm}^2  =\\left| m_3^2 - \\frac{(m_1^2 + m_2^2)}{2} \\right|$$\n"
   ]
  },
  {
   "cell_type": "markdown",
   "metadata": {
    "slideshow": {
     "slide_type": "subslide"
    }
   },
   "source": [
    "### Measurements Status\n",
    "Assuming $\\Delta m_{21}^2 \\ll \\Delta m_{31}^2 \\sim \\Delta m_{32}^2$ and small $\\theta_{13}$:\n",
    "\n",
    "<table>\n",
    " <col width=\"400\">\n",
    " <col width=\"70\">\n",
    "<col width=\"400\">\n",
    "<tr>\n",
    "<td>\n",
    "$$\\begin{pmatrix} 1 & 0 & 0 \\\\ 0 & c_{23} & s_{23} \\\\ 0 & -s_{23} & c_{23} \\end{pmatrix}$$\n",
    "</td><td>Atmospheric and Long Baseline accelerators\n",
    "\n",
    "</td>\n",
    "<td>\n",
    "If $\\Delta m_{21}^2L/E \\ll 1$:\n",
    "$$ P(\\nu_\\mu \\rightarrow \\nu_\\tau) \\simeq \\sin^2 2\\theta_{23}\\sin^2\\frac{\\Delta m_{31}^2}{3E}L$$</td>\n",
    "</tr>\n",
    "<tr>\n",
    "<td>\n",
    "\n",
    "$$\\begin{pmatrix} c_{13} & 0 & s_{13}e^{-i\\delta}\\\\ 0 & 1 & 0\\\\ -s_{13}e^{i\\delta} & 0 & c_{13}\\end{pmatrix}$$\n",
    "</td><td>Short Baseline reactors</td>\n",
    "<td>\n",
    "If $\\Delta m_{21}^2L/E \\ll 1$:\n",
    "$$ P(\\nu_e \\rightarrow \\nu_e) \\simeq 1 - \\sin^2 2\\theta_{13}\\sin^2\\frac{\\Delta m_{31}^2}{3E}L$$</td>\n",
    "</tr>\n",
    "<tr>\n",
    "<td>\n",
    "$$\\begin{pmatrix} c_{12} & s_{12} & 0 \\\\ -s_{12} & c_{12} & 0 \\\\ 0 & 0 & 1 \\end{pmatrix}$$\n",
    "</td><td>Solar and Long Baseline reactors</td>\n",
    "<td>If $\\Delta m_{31}^2L/E \\gg 1$:\n",
    "$$ P(\\nu_e \\rightarrow \\nu_e) \\simeq 1 - \\sin^2 2\\theta_{12}\\sin^2\\frac{\\Delta m_{12}^2}{3E}L$$</td>\n",
    "</tr>\n",
    "</table>\n",
    "\n"
   ]
  },
  {
   "cell_type": "markdown",
   "metadata": {
    "slideshow": {
     "slide_type": "subslide"
    }
   },
   "source": [
    "### Solar Neutrinos\n",
    "\n",
    "Neutrinos from the Sun are produced by some of the fusion reactions in the $pp$ chain or the CNO cycle. The combined effect is:\n",
    "\n",
    "$$4p \\rightarrow ^4He + 2e^+ 2\\nu_e$$\n",
    "\n",
    "From the beginning of the solar-neutrino observation a deficit of the electron neutrino predicted by the Standard Solar Model was observed: *the solar-neutrino problem*\n",
    "\n",
    "In 1999 SNO in Canada started taking data. This experiment was able to detect $\\nu_e$ by CC interactions and $\\nu_x$ by NC interaction solving the mistery of the solar-neutrino problem. It is now understood as a neutrino flavor oscillation. The results of SNO together with KamLAND (a long baseline neutrino detector) confirmed the Large Mixing Angle solution (LMA) of the solar sector:\n",
    "\n",
    "$$\\sin^2 \\theta_{12} \\simeq 0.30$$\n",
    "$$\\Delta m_{12}^2 \\equiv \\Delta m_{\\odot}^2 \\simeq 8 \\times 10^{-5} {\\rm \\; eV^2}$$\n"
   ]
  },
  {
   "cell_type": "markdown",
   "metadata": {
    "slideshow": {
     "slide_type": "subslide"
    }
   },
   "source": [
    "### Atmospheric Neutrinos\n",
    "\n",
    "First evidence of atmospheric neutrino oscillations came from Super-Kamiokande experiment in 1998. By scanning in zenith angle, is like changing the $L$.\n",
    "\n",
    "<center>\n",
    "<img src=\"http://www.quantumdiaries.org/wp-content/uploads/2014/06/IC86Multi_NuMuOsc_results_Pscan_V1.png\", width=\"60%\">\n",
    "</center>\n",
    "\n",
    "If atmospheric mixing is non-maximal, it remains to determine in which “octant\" the mixing angle $\\theta_{23}$ lies. For a $\\theta_{23}$ in the first octant (< 45$^{\\circ}$) the mass eigenstate $\\nu_3$ is **tau heavy**, i.e., the tau neutrino fraction is larger than the muon neutrino fraction. Conversely, for a $\\theta_{23}$ in the second octant (> 45$^{\\circ}$) the state $\\nu_3$ is **muon heavy**."
   ]
  },
  {
   "cell_type": "markdown",
   "metadata": {
    "slideshow": {
     "slide_type": "subslide"
    }
   },
   "source": [
    "### Reactor Neutrinos\n",
    "\n",
    "\n",
    "* Double Chooz: $\\sin^2 2\\theta_{13} = 0.109 \\pm 0.030 \\pm 0.025 \\neq 0$  at $2.9\\sigma$\n",
    "* Daya Bay: $\\sin^2 2\\theta_{13} = 0.089 \\pm 0.010 \\pm 0.005 \\neq 0$ at $7.7\\sigma$\n",
    "* RENO: $\\sin^2 2\\theta_{13} = 0.113 \\pm 0.013 \\pm 0.019 \\neq 0$ at $4.9\\sigma$\n"
   ]
  },
  {
   "cell_type": "markdown",
   "metadata": {
    "slideshow": {
     "slide_type": "slide"
    }
   },
   "source": [
    "### Neutrino oscillations in matter.\n",
    "\n",
    "The $U_{PMNS}$ matrix must be modified to account for the the fact that electron neutrinos have an extra interaction not present for $\\nu_\\mu$ and $\\nu_\\tau$ when travelling through matter. Elastic scattering of $\\nu_e$ on electron can occur via exchange of a charged $W$-boson as well as by exchange of the neutral $Z$-boson adding a term $V_e = G_F \\sqrt{2}N_e$ in the mass differences for electrons. \n",
    "\n",
    "Without entering in the maths, what happens here is that a resonance effect occurs, ie, even if the mixing angle is small in vacuum it can get amplified in matter. This resonance can be expressed as a condition on the electron density $N_e$ which is appropriate for systems such as stellar interiors (Sun or supernovae too) where provided the core density is high enough, there is always a region in the neutrinos’ path exiting the star where it passes through resonance.\n",
    "\n",
    "This is known as the **MSW effect** for the theorists who discovered it - Mikheyev, Smirnov, and Wolfenstein.\n"
   ]
  },
  {
   "cell_type": "markdown",
   "metadata": {
    "slideshow": {
     "slide_type": "slide"
    }
   },
   "source": [
    "### Tutorial III: Calculate the probabilities of $\\nu_e \\rightarrow \\nu_x$ as function of L/E"
   ]
  },
  {
   "cell_type": "code",
   "execution_count": 2,
   "metadata": {
    "collapsed": true
   },
   "outputs": [],
   "source": [
    "def PMNS_Factory(t12, t13, t23, d):\n",
    "    s12 = np.sin(t12)\n",
    "    c12 = np.cos(t12)\n",
    "    s23 = np.sin(t23)\n",
    "    c23 = np.cos(t23)\n",
    "    s13 = np.sin(t13)\n",
    "    c13 = np.cos(t13)\n",
    "    cp  = np.exp(1j*d)\n",
    "    return np.array([[ c12*c13, s12*c13, s13*np.conj(cp) ],\n",
    "                  [-s12*c23 - c12*s23*s13*cp, c12*c23 - s12*s23*s13*cp, s23*c13],\n",
    "                  [ s12*s23 - c12*s23*s13*cp,-c12*s23 - s12*c23*s13*cp, c23*c13]])"
   ]
  },
  {
   "cell_type": "code",
   "execution_count": 3,
   "metadata": {
    "collapsed": true
   },
   "outputs": [],
   "source": [
    "def posc(a, b, U, dm2, LEratio):\n",
    "    \"\"\"\n",
    "    Gives the oscillation probability for nu(a) -> nu(b)\n",
    "    for PMNS matrix U, and L in km and E in GeV, and dm2 in eV^2\n",
    "    \"\"\"\n",
    "    s = 0\n",
    "    for j in range(2):\n",
    "        for i in range(j+1, 3):\n",
    "            arg = 5.068*dm2[i+j-1]*LEratio\n",
    "            mxe = np.conj(U[a,i])*U[b,i]*U[a,j]*np.conj(U[b,j])\n",
    "            s += -4*mxe.real*np.sin(0.25*arg)**2 + 2*mxe.imag*np.sin(0.50*arg)\n",
    "    if a == b: s += 1.0\n",
    "    return s"
   ]
  },
  {
   "cell_type": "code",
   "execution_count": 17,
   "metadata": {
    "collapsed": true
   },
   "outputs": [],
   "source": [
    "t12 = np.arcsin(0.312**0.5)\n",
    "t13 = np.arcsin(0.0251**0.5) #Controlls the size of the small wiggles.\n",
    "#t13 = np.arcsin(0.0)\n",
    "t23 = np.arcsin(0.42**0.5)\n",
    "\n",
    "dm2 = [ 7.58E-05, 2.27E-03, 2.35E-03]\n",
    "delta = 0\n",
    "\n",
    "U = PMNS_Factory(t12, t13, t23, delta)"
   ]
  },
  {
   "cell_type": "markdown",
   "metadata": {},
   "source": [
    "Let's plot some oscillograms for a $\\nu_e$ beam"
   ]
  },
  {
   "cell_type": "code",
   "execution_count": 18,
   "metadata": {},
   "outputs": [
    {
     "data": {
      "image/png": "[encoded data removed]",
      "text/plain": [
       "<matplotlib.figure.Figure at 0x10f55cb90>"
      ]
     },
     "metadata": {},
     "output_type": "display_data"
    }
   ],
   "source": [
    "LE = np.linspace(0, 36000, 3600)\n",
    "Pe = posc(0, 0, U, dm2, LE)\n",
    "Pm = posc(0, 1, U, dm2, LE)\n",
    "Pt = posc(0, 2, U, dm2, LE)\n",
    "fig, ax = plt.subplots(figsize=(8,7))\n",
    "ax.plot(LE, Pe, '-', label=r'$\\nu_e \\rightarrow \\nu_e$')\n",
    "ax.plot(LE, Pm, 'k', label=r'$\\nu_e\\rightarrow\\nu_\\mu$')\n",
    "ax.plot(LE, Pt, 'r', label=r'$\\nu_e\\rightarrow\\nu_\\tau$')\n",
    "ax.set_xlabel(\"L/E (km/GeV)\", fontsize=20)\n",
    "ax.set_ylabel(r\"Probability $\\nu_e \\rightarrow \\nu_x$\", fontsize=20)\n",
    "ax.set_ylim(0,1)\n",
    "ax.grid()\n",
    "plt.legend(loc=\"upper center\", fontsize=20)\n",
    "plt.show()"
   ]
  },
  {
   "cell_type": "code",
   "execution_count": 16,
   "metadata": {},
   "outputs": [
    {
     "ename": "NameError",
     "evalue": "name 'posc' is not defined",
     "output_type": "error",
     "traceback": [
      "\u001b[0;31m---------------------------------------------------------------------------\u001b[0m",
      "\u001b[0;31mNameError\u001b[0m                                 Traceback (most recent call last)",
      "\u001b[0;32m<ipython-input-16-972c92678720>\u001b[0m in \u001b[0;36m<module>\u001b[0;34m()\u001b[0m\n\u001b[1;32m      1\u001b[0m \u001b[0mLE\u001b[0m \u001b[0;34m=\u001b[0m \u001b[0mnp\u001b[0m\u001b[0;34m.\u001b[0m\u001b[0mlinspace\u001b[0m\u001b[0;34m(\u001b[0m\u001b[0;36m0\u001b[0m\u001b[0;34m,\u001b[0m \u001b[0;36m3600\u001b[0m\u001b[0;34m,\u001b[0m \u001b[0;36m360\u001b[0m\u001b[0;34m)\u001b[0m\u001b[0;34m\u001b[0m\u001b[0m\n\u001b[0;32m----> 2\u001b[0;31m \u001b[0mPe\u001b[0m \u001b[0;34m=\u001b[0m \u001b[0mposc\u001b[0m\u001b[0;34m(\u001b[0m\u001b[0;36m0\u001b[0m\u001b[0;34m,\u001b[0m \u001b[0;36m0\u001b[0m\u001b[0;34m,\u001b[0m \u001b[0mU\u001b[0m\u001b[0;34m,\u001b[0m \u001b[0mdm2\u001b[0m\u001b[0;34m,\u001b[0m \u001b[0mLE\u001b[0m\u001b[0;34m)\u001b[0m\u001b[0;34m\u001b[0m\u001b[0m\n\u001b[0m\u001b[1;32m      3\u001b[0m \u001b[0mPm\u001b[0m \u001b[0;34m=\u001b[0m \u001b[0mposc\u001b[0m\u001b[0;34m(\u001b[0m\u001b[0;36m0\u001b[0m\u001b[0;34m,\u001b[0m \u001b[0;36m1\u001b[0m\u001b[0;34m,\u001b[0m \u001b[0mU\u001b[0m\u001b[0;34m,\u001b[0m \u001b[0mdm2\u001b[0m\u001b[0;34m,\u001b[0m \u001b[0mLE\u001b[0m\u001b[0;34m)\u001b[0m\u001b[0;34m\u001b[0m\u001b[0m\n\u001b[1;32m      4\u001b[0m \u001b[0mPt\u001b[0m \u001b[0;34m=\u001b[0m \u001b[0mposc\u001b[0m\u001b[0;34m(\u001b[0m\u001b[0;36m0\u001b[0m\u001b[0;34m,\u001b[0m \u001b[0;36m2\u001b[0m\u001b[0;34m,\u001b[0m \u001b[0mU\u001b[0m\u001b[0;34m,\u001b[0m \u001b[0mdm2\u001b[0m\u001b[0;34m,\u001b[0m \u001b[0mLE\u001b[0m\u001b[0;34m)\u001b[0m\u001b[0;34m\u001b[0m\u001b[0m\n\u001b[1;32m      5\u001b[0m \u001b[0mfig\u001b[0m\u001b[0;34m,\u001b[0m \u001b[0max\u001b[0m \u001b[0;34m=\u001b[0m \u001b[0mplt\u001b[0m\u001b[0;34m.\u001b[0m\u001b[0msubplots\u001b[0m\u001b[0;34m(\u001b[0m\u001b[0mfigsize\u001b[0m\u001b[0;34m=\u001b[0m\u001b[0;34m(\u001b[0m\u001b[0;36m8\u001b[0m\u001b[0;34m,\u001b[0m\u001b[0;36m7\u001b[0m\u001b[0;34m)\u001b[0m\u001b[0;34m)\u001b[0m\u001b[0;34m\u001b[0m\u001b[0m\n",
      "\u001b[0;31mNameError\u001b[0m: name 'posc' is not defined"
     ]
    }
   ],
   "source": [
    "LE = np.linspace(0, 3600, 360)\n",
    "Pe = posc(0, 0, U, dm2, LE)\n",
    "Pm = posc(0, 1, U, dm2, LE)\n",
    "Pt = posc(0, 2, U, dm2, LE)\n",
    "fig, ax = plt.subplots(figsize=(8,7))\n",
    "ax.plot(LE, Pe, '-', label=r'$\\nu_e \\rightarrow \\nu_e$')\n",
    "ax.plot(LE, Pm, 'k', label=r'$\\nu_e\\rightarrow\\nu_\\mu$')\n",
    "ax.plot(LE, Pt, 'r', label=r'$\\nu_e\\rightarrow\\nu_\\tau$')\n",
    "ax.set_xlabel(\"L/E (km/GeV)\", fontsize=20)\n",
    "ax.set_ylabel(r\"Probability $\\nu_e \\rightarrow \\nu_x$\",fontsize=20)\n",
    "ax.set_ylim(0,1)\n",
    "ax.grid()\n",
    "plt.legend(loc=\"middle center\", fontsize=20)\n",
    "plt.show()"
   ]
  },
  {
   "cell_type": "markdown",
   "metadata": {},
   "source": [
    "## Cosmic Ray Experiments and Detectors\n",
    "### Detection ranges\n",
    "\n",
    "<table>\n",
    "<col width=\"230\">\n",
    "<tr><th>Energy Range</th><th>Nomenclature</th><th>Detection Technique</th></tr>\n",
    "<tr><td>10 MeV - 30 GeV</td><td>high (HE)</td><td>satellite/space based detector </td></tr>\n",
    "<tr><td>30 GeV - 30 TeV</td><td>very high (VHE)</td><td>ground based atmospheric Cherenkov detectors </td></tr>\n",
    "<tr><td>30 TeV above</td><td>ultra high (UHE) and extremely high (EHE) </td><td>ground based air-shower and fluorescence detectors.</td></tr>\n",
    "</table>"
   ]
  },
  {
   "cell_type": "markdown",
   "metadata": {},
   "source": [
    "### AMS\n",
    "\n",
    "\n",
    "\n",
    "The Alpha Magnetic Spectrometer (AMS-2) is a cosmic-ray detector mounted on the [International Space Station](http://en.wikipedia.org/wiki/International_Space_Station). It is looking specifically\n",
    "for positrons, antiprotons, signs of dark\n",
    "matter, antimatter in universe. Its detector\n",
    "systems are:\n",
    "\n",
    "* Transition radiation detector (TRD):\n",
    "transition radiation is produced when\n",
    "ultra-relativistic charged particle travel\n",
    "through dielectric boundary - emit\n",
    "X-rays which can be used to measure\n",
    "directly $\\gamma$ (lorentz factor). \n",
    "* TOF - time-of-flight system\n",
    "* Silicon tracking magnetic\n",
    "spectrometer.\n",
    "* Ring-imaging Cherenkov counter:\n",
    "particle ID in GeV region.\n",
    "* Electromagnetic calorimeter (ECAL).\n",
    "\n",
    "\n",
    "<img src=\"Ams_experiment-de.jpg\" width=\"50%\">\n",
    "\n",
    "<img src=\"mat_06_941-705_resize.jpg\" width=\"50%\">"
   ]
  },
  {
   "cell_type": "markdown",
   "metadata": {},
   "source": [
    "### PAMELA\n",
    "\n",
    "<img src=\"pamelasmall.jpg\" width=\"30%\">\n",
    "\n",
    "PAMELA is the precursor of AMS-2 but it is still operative. It is attached to an Earth orbiting satellite.It was launched in 2006 and the first to observed the  excess of high energy\n",
    "positrons - above what would be expected\n",
    "from theoretical model of positrons\n",
    "produced as secondaries in CR interactions.\n",
    "The excess has been interpreted as many\n",
    "things including signal of dark matter. The\n",
    "source is not settled at this point."
   ]
  },
  {
   "cell_type": "markdown",
   "metadata": {},
   "source": [
    "### IceTop\n",
    "\n",
    "\n",
    "IceTop is an array of 81 stations spanning a square kilometer of the Antarctic ice sheet. Each station is located on top of one of IceCube’s strings and holds two tanks of frozen water, each tank equipped with two IceCube sensors or DOMs. It can measure the CR spectrum from $10^{6}$ to 10$^{9}$ GeV.\n",
    "\n",
    "<img src=\"dec-12-2010_detectordiagram.jpg\">\n",
    "\n",
    "\n",
    "### PIERRE AUGER OBSERVATORY\n",
    "\n",
    "\n",
    "The AUGER observatory is located in Malarque Argentina. It consists on 4 fluoresence detectors and 1600 water\n",
    "Cherenkov surface tanks deployed over\n",
    "area of $\\sim$ 300 km$^2$. The\n",
    "two detector types unite techniques of\n",
    "AGASA (Akeno) and HiRes into single\n",
    "site allowing cross calibration on\n",
    "hybrid events, reducing greatly the\n",
    "systematic errors.\n",
    "<img src=\"auger.png\" width=\"40%\">\n",
    "<img src=\"auger2.png\" width=\"40%\">\n",
    "\n",
    "\n",
    "### PIERRE AUGER OBSERVATORY: Surface Detector\n",
    "<center>\n",
    "<img src=\"Surface_detector.png\" width=\"80%\">\n",
    "</center>\n",
    "* Each surface detector is 10 m$^2$ plastic tank filled with water.\n",
    "I As the charged particles pass through the water, they emit\n",
    "Cherenkov light which is picked up in 3 down-facing PMTs. 1 VEM (vertical equivalent muon - the standard calibration unit for\n",
    "surface detectors) is approx 100\n",
    "p.e. in the 3 tubes.\n",
    "* The distance from tank-to-tank is\n",
    "large - 1.5 km.\n",
    "* The array is networked to a\n",
    "central facility using radio uplinks\n",
    "and each tank is solar powered.\n",
    "\n",
    "\n",
    "### PIERRE AUGER OBSERVATORY: Fluorescence detector\n",
    "\n",
    "\n",
    "<img src=\"auger_design.jpg\" align=\"center\" width=\"50%\">\n",
    "<img src=\"research-privitera.png\" align=\"center\" width=\"50%\">\n",
    "\n",
    "* 4 FDs - each 12m$^2$ reflector\n",
    "telescopes with 400-pixel PMT\n",
    "camera in the focal plane\n",
    "* Each camera views about\n",
    "30$^{\\circ} \\times $ 30$^{\\circ}$ patch of sky\n",
    "* FD can record shower profiles\n",
    "versus depth and has very good\n",
    "energy resolution from\n",
    "measurement of the fluoresence\n",
    "output of EAS.\n",
    "* Duty cycle of FD is poor - must\n",
    "be moonless clear night."
   ]
  },
  {
   "cell_type": "markdown",
   "metadata": {
    "slideshow": {
     "slide_type": "slide"
    }
   },
   "source": [
    "## What else?\n",
    "\n",
    "* Pressure and temperature effects in the muon and neutrino fluxes.\n",
    "\n",
    "* Sterile neutrinos, are there more than 3 neutrinos? What does cosmology tell us, what do experiements tell us? (LSND and reactor anomalies)\n",
    "\n",
    "* Neutrino experiments: SNO, Kamland, DayaBay etc..\n",
    "\n",
    "Again these might be topics for your research project.\n"
   ]
  },
  {
   "cell_type": "markdown",
   "metadata": {},
   "source": [
    "### References\n",
    "* Air showers\n",
    "    * A Heitler model of extensive air showers. J. Matthews [Volume 22, Issues 5–6, January 2005, Pages 387–397](http://www.sciencedirect.com/science/article/pii/S0927650504001598)\n",
    "* Muons and neutrinos\n",
    "    * Cosmic Rays and Particle Physics. Thomas K. Gaisser ISBN 0-521-33931-6\n",
    "* Interactions with matter.\n",
    "    * High Energy Astrophysics. Vol 1. Chaper 3 and 4. Malcom S. Longair ISBN 0-521-38773-6\n",
    "* Observations\n",
    "    * High-energy astroparticle physics. D. Semikoz. [arXiv:1010.2647v1](https://arxiv.org/abs/1010.2647)\n",
    "  "
   ]
  },
  {
   "cell_type": "code",
   "execution_count": 15,
   "metadata": {},
   "outputs": [
    {
     "data": {
      "application/json": {
       "Software versions": [
        {
         "module": "Python",
         "version": "2.7.9 64bit [GCC 4.2.1 Compatible Apple LLVM 6.1.0 (clang-602.0.49)]"
        },
        {
         "module": "IPython",
         "version": "5.4.1"
        },
        {
         "module": "OS",
         "version": "Darwin 17.4.0 x86_64 i386 64bit"
        },
        {
         "module": "numpy",
         "version": "1.12.0"
        },
        {
         "module": "matplotlib",
         "version": "2.0.0"
        },
        {
         "module": "astropy",
         "version": "1.3"
        },
        {
         "module": "scipy",
         "version": "0.18.1"
        }
       ]
      },
      "text/html": [
       "<table><tr><th>Software</th><th>Version</th></tr><tr><td>Python</td><td>2.7.9 64bit [GCC 4.2.1 Compatible Apple LLVM 6.1.0 (clang-602.0.49)]</td></tr><tr><td>IPython</td><td>5.4.1</td></tr><tr><td>OS</td><td>Darwin 17.4.0 x86_64 i386 64bit</td></tr><tr><td>numpy</td><td>1.12.0</td></tr><tr><td>matplotlib</td><td>2.0.0</td></tr><tr><td>astropy</td><td>1.3</td></tr><tr><td>scipy</td><td>0.18.1</td></tr><tr><td colspan='2'>Sat Mar 10 17:16:55 2018 CET</td></tr></table>"
      ],
      "text/latex": [
       "\\begin{tabular}{|l|l|}\\hline\n",
       "{\\bf Software} & {\\bf Version} \\\\ \\hline\\hline\n",
       "Python & 2.7.9 64bit [GCC 4.2.1 Compatible Apple LLVM 6.1.0 (clang-602.0.49)] \\\\ \\hline\n",
       "IPython & 5.4.1 \\\\ \\hline\n",
       "OS & Darwin 17.4.0 x86\\_64 i386 64bit \\\\ \\hline\n",
       "numpy & 1.12.0 \\\\ \\hline\n",
       "matplotlib & 2.0.0 \\\\ \\hline\n",
       "astropy & 1.3 \\\\ \\hline\n",
       "scipy & 0.18.1 \\\\ \\hline\n",
       "\\hline \\multicolumn{2}{|l|}{Sat Mar 10 17:16:55 2018 CET} \\\\ \\hline\n",
       "\\end{tabular}\n"
      ],
      "text/plain": [
       "Software versions\n",
       "Python 2.7.9 64bit [GCC 4.2.1 Compatible Apple LLVM 6.1.0 (clang-602.0.49)]\n",
       "IPython 5.4.1\n",
       "OS Darwin 17.4.0 x86_64 i386 64bit\n",
       "numpy 1.12.0\n",
       "matplotlib 2.0.0\n",
       "astropy 1.3\n",
       "scipy 0.18.1\n",
       "Sat Mar 10 17:16:55 2018 CET"
      ]
     },
     "execution_count": 15,
     "metadata": {},
     "output_type": "execute_result"
    }
   ],
   "source": [
    "%load_ext version_information\n",
    "%version_information numpy, matplotlib, astropy, scipy"
   ]
  }
 ],
 "metadata": {
  "celltoolbar": "Slideshow",
  "hide_input": false,
  "kernelspec": {
   "display_name": "Python 2",
   "language": "python",
   "name": "python2"
  },
  "language_info": {
   "codemirror_mode": {
    "name": "ipython",
    "version": 2
   },
   "file_extension": ".py",
   "mimetype": "text/x-python",
   "name": "python",
   "nbconvert_exporter": "python",
   "pygments_lexer": "ipython2",
   "version": "2.7.9"
  },
  "latex_envs": {
   "bibliofile": "biblio.bib",
   "cite_by": "apalike",
   "current_citInitial": 1,
   "eqLabelWithNumbers": true,
   "eqNumInitial": 0
  }
 },
 "nbformat": 4,
 "nbformat_minor": 1
}
